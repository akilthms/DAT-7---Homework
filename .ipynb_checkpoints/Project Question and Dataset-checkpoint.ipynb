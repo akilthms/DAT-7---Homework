{
 "cells": [
  {
   "cell_type": "markdown",
   "metadata": {},
   "source": [
    "##Project Question & Dataset\n",
    "\n",
    "**My project question**: Can we predict a first year Rookie QB will have a successful season(6 wins or more) based on Combine(40 yard dash, bench press, etc.) and College Football statistics(QBR, winning percentage, TDs per game, passing yards per game, etc.). \n",
    "\n",
    "**Dataset**\n",
    "\n",
    "I plan to webscrape [The Football Database Online Website](http://www.footballdb.com/)\n",
    "    - This can be accomplish by manipulating this url.\n",
    "        - http://www.footballdb.com/stats/stats.html?\n",
    "    - By putting in the appropriate parameters and webscrapping I can build a Dataset with categories such as passing yards, QBR, Passing TD's, etc. \n",
    "    -Example: \n",
    "        - http://www.footballdb.com/stats/stats.html?mode=P&yr=2014&lg=NFL\n",
    "\n",
    "I have not as yet written the algorithm to build the dataset."
   ]
  },
  {
   "cell_type": "code",
   "execution_count": null,
   "metadata": {
    "collapsed": true
   },
   "outputs": [],
   "source": []
  },
  {
   "cell_type": "code",
   "execution_count": 1,
   "metadata": {
    "collapsed": false
   },
   "outputs": [
    {
     "data": {
      "text/plain": [
       "[0, 1, 2]"
      ]
     },
     "execution_count": 1,
     "metadata": {},
     "output_type": "execute_result"
    }
   ],
   "source": [
    "a = range(3)\n",
    "a"
   ]
  },
  {
   "cell_type": "code",
   "execution_count": null,
   "metadata": {
    "collapsed": true
   },
   "outputs": [],
   "source": [
    "a.append(3)"
   ]
  }
 ],
 "metadata": {
  "kernelspec": {
   "display_name": "Python 2",
   "language": "python",
   "name": "python2"
  },
  "language_info": {
   "codemirror_mode": {
    "name": "ipython",
    "version": 2
   },
   "file_extension": ".py",
   "mimetype": "text/x-python",
   "name": "python",
   "nbconvert_exporter": "python",
   "pygments_lexer": "ipython2",
   "version": "2.7.10"
  }
 },
 "nbformat": 4,
 "nbformat_minor": 0
}
