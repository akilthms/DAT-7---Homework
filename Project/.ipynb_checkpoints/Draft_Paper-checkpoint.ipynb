{
 "cells": [
  {
   "cell_type": "markdown",
   "metadata": {},
   "source": [
    "**Project Question:**Can we predict a Rookie QB starting in the NFL will have a “successful” season (7 wins or more) utilizing College Football statistics (Passer Effeciency Rating, winning percentage, TDs per game, passing yards per game, etc.).\n",
    "\n",
    "**Background:**\n",
    "Background\n",
    "In the past decade there has been a large increase in Rookie QBs starting in Week 1. NFL teams have burned through a large amount of money completely relying on these Rookie QBs to make an immediate impact. \n"
   ]
  },
  {
   "cell_type": "code",
   "execution_count": 1,
   "metadata": {
    "collapsed": false
   },
   "outputs": [],
   "source": [
    "import pandas as pd \n",
    "from bs4 import BeautifulSoup \n",
    "import requests \n",
    "from time import sleep\n",
    "rookies = pd.read_csv('Rookies_CFB_Stats.csv')\n",
    "rookies.rename(columns = {'Unnamed: 0': 'Name'}, inplace = True)"
   ]
  },
  {
   "cell_type": "code",
   "execution_count": 2,
   "metadata": {
    "collapsed": false
   },
   "outputs": [
    {
     "data": {
      "text/html": [
       "<div>\n",
       "<table border=\"1\" class=\"dataframe\">\n",
       "  <thead>\n",
       "    <tr style=\"text-align: right;\">\n",
       "      <th></th>\n",
       "      <th>Name</th>\n",
       "      <th>CMP</th>\n",
       "      <th>Attps</th>\n",
       "      <th>PCT</th>\n",
       "      <th>Yds</th>\n",
       "      <th>Y/A</th>\n",
       "      <th>AY/A</th>\n",
       "      <th>TDs</th>\n",
       "      <th>Int</th>\n",
       "      <th>Rate</th>\n",
       "    </tr>\n",
       "  </thead>\n",
       "  <tbody>\n",
       "    <tr>\n",
       "      <th>0</th>\n",
       "      <td>Akili Smith</td>\n",
       "      <td>323</td>\n",
       "      <td>571</td>\n",
       "      <td>56.6</td>\n",
       "      <td>5148</td>\n",
       "      <td>9.0</td>\n",
       "      <td>9.4</td>\n",
       "      <td>45</td>\n",
       "      <td>15</td>\n",
       "      <td>153.1</td>\n",
       "    </tr>\n",
       "    <tr>\n",
       "      <th>1</th>\n",
       "      <td>Alex Smith</td>\n",
       "      <td>389</td>\n",
       "      <td>587</td>\n",
       "      <td>66.3</td>\n",
       "      <td>5203</td>\n",
       "      <td>8.9</td>\n",
       "      <td>9.9</td>\n",
       "      <td>47</td>\n",
       "      <td>8</td>\n",
       "      <td>164.4</td>\n",
       "    </tr>\n",
       "    <tr>\n",
       "      <th>2</th>\n",
       "      <td>Andrew Luck</td>\n",
       "      <td>713</td>\n",
       "      <td>1064</td>\n",
       "      <td>67.0</td>\n",
       "      <td>9430</td>\n",
       "      <td>8.9</td>\n",
       "      <td>9.5</td>\n",
       "      <td>82</td>\n",
       "      <td>22</td>\n",
       "      <td>162.8</td>\n",
       "    </tr>\n",
       "    <tr>\n",
       "      <th>3</th>\n",
       "      <td>Andy Dalton</td>\n",
       "      <td>812</td>\n",
       "      <td>1317</td>\n",
       "      <td>61.7</td>\n",
       "      <td>10314</td>\n",
       "      <td>7.8</td>\n",
       "      <td>7.9</td>\n",
       "      <td>71</td>\n",
       "      <td>30</td>\n",
       "      <td>140.7</td>\n",
       "    </tr>\n",
       "    <tr>\n",
       "      <th>4</th>\n",
       "      <td>Blaine Gabbert</td>\n",
       "      <td>568</td>\n",
       "      <td>933</td>\n",
       "      <td>60.9</td>\n",
       "      <td>6822</td>\n",
       "      <td>7.3</td>\n",
       "      <td>7.3</td>\n",
       "      <td>40</td>\n",
       "      <td>18</td>\n",
       "      <td>132.6</td>\n",
       "    </tr>\n",
       "  </tbody>\n",
       "</table>\n",
       "</div>"
      ],
      "text/plain": [
       "             Name  CMP  Attps   PCT    Yds  Y/A  AY/A  TDs  Int   Rate\n",
       "0     Akili Smith  323    571  56.6   5148  9.0   9.4   45   15  153.1\n",
       "1      Alex Smith  389    587  66.3   5203  8.9   9.9   47    8  164.4\n",
       "2     Andrew Luck  713   1064  67.0   9430  8.9   9.5   82   22  162.8\n",
       "3     Andy Dalton  812   1317  61.7  10314  7.8   7.9   71   30  140.7\n",
       "4  Blaine Gabbert  568    933  60.9   6822  7.3   7.3   40   18  132.6"
      ]
     },
     "execution_count": 2,
     "metadata": {},
     "output_type": "execute_result"
    }
   ],
   "source": [
    "rookies.head()"
   ]
  },
  {
   "cell_type": "markdown",
   "metadata": {},
   "source": [
    "**Data Dictionary**\n",
    "\n",
    "**CMP:** Pass Completions\n",
    "\n",
    "**Attps:** Pass Attempts\n",
    "\n",
    "**PCT:** Pass Completion Percentage \n",
    "\n",
    "**Yds:** Passing Yards\n",
    "\n",
    "**Y/A:** Passing Yards per Attempt \n",
    "\n",
    "**AY/A:** Adjusted Passing Yards Per Attempt; the formula is (Yds + 20 *TD \n",
    "- 45 * Int) / Att\"\n",
    "\n",
    "**TDs:** Touchdowns \n",
    "\n",
    "**Int:** Interceptions\n",
    "\n",
    "**Rate:** Passing Efficiency Rating; the formula is (8.4 * Yds + 330 * TD - 200 * Int + 100 * Cmp) / Att"
   ]
  },
  {
   "cell_type": "markdown",
   "metadata": {},
   "source": [
    "We need our response in our dataset . Our response is the W-L record of the players Rookie year."
   ]
  },
  {
   "cell_type": "markdown",
   "metadata": {},
   "source": [
    "**Our Approach**: We will define a function that will webscrape [footballgeograph.com](http://www.footballgeography.com/sample-page-2/pro-football-abbreviations/) to grab the abbreviations for each NFL Team and store it in a dictionary for lookup(e.g. {BAL :Baltimore Ravens}. We do this to grab the W-L for the corresponding Rookie because the website ([TheFootballDatabase](http://www.footballdb.com/teams/index.html)) takes the full NFL Team Name e.g. Baltimore Ravens instead of BAL to reference the W-L record. "
   ]
  },
  {
   "cell_type": "code",
   "execution_count": 3,
   "metadata": {
    "collapsed": false
   },
   "outputs": [],
   "source": [
    "def getfull_Team_Name():\n",
    "    d = {}\n",
    "    url = 'http://www.footballgeography.com/sample-page-2/pro-football-abbreviations/'\n",
    "    r = requests.get(url)\n",
    "    bs = BeautifulSoup(r.text, 'html.parser')\n",
    "    rows = bs.find(name = 'tbody').find_all(name = 'tr')\n",
    "    sleep(1)\n",
    "    for row in rows[:100]: \n",
    "        cols = row.find_all(name = 'td')\n",
    "        abrv = cols[0].text\n",
    "        full_name = cols[1].text\n",
    "        d[abrv] = full_name\n",
    "    return d\n",
    "        \n",
    "    "
   ]
  },
  {
   "cell_type": "code",
   "execution_count": 4,
   "metadata": {
    "collapsed": false
   },
   "outputs": [
    {
     "data": {
      "text/plain": [
       "{u'AKI': u'Akron Indians',\n",
       " u'AKR': u'Akron Pros',\n",
       " 'ARI': u'Arizona Cardinals',\n",
       " u'ATL': u'Atlanta Falcons',\n",
       " u'BAC': u'Baltimore Colts',\n",
       " u'BAL': u'Baltimore Ravens',\n",
       " u'BAO': u'Baltimore Colts (1946-50)',\n",
       " u'BKB': u'Bkn Tigers-Bos Yanks',\n",
       " u'BKD': u'Brooklyn Dodgers (1930-43)',\n",
       " u'BKL': u'Brooklyn Lions',\n",
       " u'BKN': u'Brooklyn Dodgers (1946-48)',\n",
       " u'BKT': u'Brooklyn Tigers',\n",
       " u'BOB': u'Boston Braves',\n",
       " u'BOD': u'Boston Bulldogs',\n",
       " u'BOR': u'Boston Redskins',\n",
       " u'BOS': u'Boston Patriots',\n",
       " u'BOY': u'Boston Yanks',\n",
       " u'BUA': u'Buffalo All-Americans',\n",
       " u'BUB': u'Buffalo Bisons (1946)',\n",
       " u'BUF': u'Buffalo Bills',\n",
       " u'BUL': u'Buffalo Bills (1947-49)',\n",
       " u'BUN': u'Buffalo Bisons (1927, 29)',\n",
       " u'BUR': u'Buffalo Rangers',\n",
       " u'BUS': u'Buffalo Bisons (1924-25)',\n",
       " u'CAN': u'Canton Bulldogs',\n",
       " u'CAR': u'Carolina Panthers',\n",
       " u'CHC': u'Chicago Cardinals',\n",
       " u'CHH': u'Chicago Hornets',\n",
       " u'CHI': u'Chicago Bears',\n",
       " u'CHP': u'Chi Cardinals-Pit Steelers',\n",
       " u'CHR': u'Chicago Rockets',\n",
       " u'CHS': u'Chicago Staleys',\n",
       " u'CHT': u'Chicago Tigers',\n",
       " u'CIC': u'Cincinnati Celts',\n",
       " u'CIN': u'Cincinnati Bengals',\n",
       " u'CIR': u'Cincinnati Reds',\n",
       " u'CLB': u'Cleveland Bulldogs',\n",
       " u'CLD': u'Cleveland Indians',\n",
       " u'CLE': u'Cleveland Browns',\n",
       " u'CLI': u'Cleveland Indians',\n",
       " u'CLR': u'Cleveland Rams',\n",
       " u'CLT': u'Cleveland Tigers',\n",
       " u'COL': u'Columbus Tigers',\n",
       " u'COP': u'Columbus Panhandles',\n",
       " u'DAL': u'Dallas Cowboys',\n",
       " u'DAT': u'Dallas Texans (1960-62)',\n",
       " u'DAX': u'Dallas Texans (1952)',\n",
       " u'DAY': u'Dayton Triangles',\n",
       " u'DEC': u'Decatur Staleys',\n",
       " u'DEN': u'Denver Broncos',\n",
       " u'DET': u'Detroit Lions',\n",
       " u'DTG': u'Detroit Tigers',\n",
       " u'DTH': u'Detroit Heralds',\n",
       " u'DTP': u'Detroit Panthers',\n",
       " u'DTW': u'Detroit Wolverines',\n",
       " u'DUE': u'Duluth Eskimos',\n",
       " u'DUK': u'Duluth Kelleys',\n",
       " u'EVA': u'Evansville Crimson Giants',\n",
       " u'FRA': u'Frankford Yellow Jackets',\n",
       " u'GBY': u'Green Bay Packers',\n",
       " u'HAM': u'Hammond Pros',\n",
       " u'HAR': u'Hartford Blues',\n",
       " u'HOO': u'Houston Oilers',\n",
       " u'HOU': u'Houston Texans',\n",
       " u'IND': u'Indianapolis Colts',\n",
       " u'JAC': u'Jacksonville Jaguars',\n",
       " u'KCC': u'Kansas City Cowboys',\n",
       " u'KCY': u'Kansas City Chiefs',\n",
       " u'KEN': u'Kenosha Maroons',\n",
       " u'LAB': u'Los Angeles Buccaneers',\n",
       " u'LAC': u'Los Angeles Chargers',\n",
       " u'LAD': u'Los Angeles Dons',\n",
       " u'LAI': u'Los Angeles Raiders',\n",
       " u'LAM': u'Los Angeles Rams',\n",
       " u'LOB': u'Louisville Brecks',\n",
       " u'LOC': u'Louisville Colonels',\n",
       " u'MIA': u'Miami Dolphins',\n",
       " u'MIL': u'Milwaukee Badgers',\n",
       " u'MIN': u'Minnesota Vikings',\n",
       " u'MIS': u'Miami Seahawks',\n",
       " 'NE': u'New England Patriots',\n",
       " u'NOR': u'New Orleans Saints',\n",
       " u'NYG': u'New York Giants',\n",
       " u'NYJ': u'New York Jets',\n",
       " u'NYT': u'New York Titans',\n",
       " u'OAK': u'Oakland Raiders',\n",
       " u'PHI': u'Philadelphia Eagles',\n",
       " u'PHX': u'Phoenix Cardinals',\n",
       " u'PIP': u'Pittsburgh Pirates',\n",
       " u'PIT': u'Pittsburgh Steelers',\n",
       " u'POR': u'Portsmouth Spartans',\n",
       " 'SD': u'San Diego Chargers',\n",
       " u'SEA': u'Seattle Seahawks',\n",
       " 'SF': u'San Francisco 49ers',\n",
       " u'SLC': u'St. Louis Cardinals',\n",
       " u'STL': u'St. Louis Rams',\n",
       " 'TB': u'Tampa Bay Buccaneers',\n",
       " u'TEN': u'Tennessee Titans',\n",
       " u'TNO': u'Tennessee Oilers',\n",
       " u'WAS': u'Washington Redskins'}"
      ]
     },
     "execution_count": 4,
     "metadata": {},
     "output_type": "execute_result"
    }
   ],
   "source": [
    "full_name_dict = getfull_Team_Name()\n",
    "#Our dictionaries have some incorrect abbreviations. The code below fixes the mistakes\n",
    "full_name_dict['SF'] = full_name_dict.pop('SFO')\n",
    "full_name_dict['TB'] = full_name_dict.pop('TBY')\n",
    "full_name_dict['SD'] = full_name_dict.pop('SDO')\n",
    "full_name_dict['NE'] = full_name_dict.pop('NWE')\n",
    "full_name_dict['ARI'] = full_name_dict.pop('ARZ')\n",
    "full_name_dict"
   ]
  },
  {
   "cell_type": "markdown",
   "metadata": {},
   "source": [
    "Now we need a list of all of the rookies with their team and year that they played. We will define a function to help us do this; and put the results into a dictionary."
   ]
  },
  {
   "cell_type": "code",
   "execution_count": 5,
   "metadata": {
    "collapsed": false
   },
   "outputs": [],
   "source": [
    "Seasons = range(2014, 1979, -1)\n",
    "def getMyRookies(_Seasons):\n",
    "    rookie_dict = {}\n",
    "    rookie_QBs = [] \n",
    "    for season in _Seasons: \n",
    "        url = 'http://www.nfl.com/stats/categorystats?archive=false&conference=null&statisticCategory=PASSING&season='+ str(season) + '&seasonType=REG&experience=0&tabSeq=0&qualified=false&Submit=Go'\n",
    "        r = requests.get(url)\n",
    "        #print r\n",
    "       \n",
    "        b = BeautifulSoup(r.text,'html.parser')\n",
    "        rows = b.find_all(name = 'tr') \n",
    "        for row in rows[1:]:\n",
    "            #print row\n",
    "            cols = row.find_all(name = 'td')\n",
    "            #print cols[1]\n",
    "            name = cols[1].text.strip()\n",
    "            \n",
    "            team = cols[2].text.strip()\n",
    "            year_played  = season\n",
    "            #year_and_team = [team, year_played]\n",
    "            #rookie_QBs.append(year_and_team)\n",
    "            #This condition statment ensures that we are extracting data only for players in our data set.  \n",
    "            if name in rookies.Name.tolist():\n",
    "                print name\n",
    "                rookie_dict[name] = {'Team': team, 'Year Played': year_played}\n",
    "        #sleep(1)\n",
    "    return rookie_dict"
   ]
  },
  {
   "cell_type": "code",
   "execution_count": 6,
   "metadata": {
    "collapsed": false
   },
   "outputs": [
    {
     "name": "stdout",
     "output_type": "stream",
     "text": [
      "Derek Carr\n",
      "Teddy Bridgewater\n",
      "Blake Bortles\n",
      "Zach Mettenberger\n",
      "Geno Smith\n",
      "Mike Glennon\n",
      "EJ Manuel\n",
      "Matt McGloin\n",
      "Andrew Luck\n",
      "Brandon Weeden\n",
      "Ryan Tannehill\n",
      "Robert Griffin III\n",
      "Russell Wilson\n",
      "Nick Foles\n",
      "Ryan Lindley\n",
      "Cam Newton\n",
      "Andy Dalton\n",
      "Blaine Gabbert\n",
      "Christian Ponder\n",
      "T.J. Yates\n",
      "Sam Bradford\n",
      "Colt McCoy\n",
      "Jimmy Clausen\n",
      "Mark Sanchez\n",
      "Matthew Stafford\n",
      "Josh Freeman\n",
      "Matt Ryan\n",
      "Trent Edwards\n",
      "Matt Moore\n",
      "John Beck\n",
      "Matt Leinart\n",
      "Vince Young\n",
      "Bruce Gradkowski\n",
      "Jay Cutler\n",
      "Kyle Orton\n",
      "Charlie Frye\n",
      "Alex Smith\n",
      "Ben Roethlisberger\n",
      "Eli Manning\n",
      "Craig Krenzel\n",
      "Byron Leftwich\n",
      "Kyle Boller\n",
      "David Carr\n",
      "Joey Harrington\n",
      "Chad Hutchinson\n",
      "Patrick Ramsey\n",
      "Chris Weinke\n",
      "Quincy Carter\n",
      "Michael Vick\n",
      "Mike McMahon\n",
      "Tim Couch\n",
      "Cade McNown\n",
      "Donovan McNabb\n",
      "Shaun King\n",
      "Akili Smith\n",
      "Peyton Manning\n",
      "Charlie Batch\n",
      "Ryan Leaf\n",
      "Jake Plummer\n",
      "Tony Banks\n",
      "Kerry Collins\n",
      "Eric Zeier\n",
      "Heath Shuler\n",
      "Rick Mirer\n",
      "Drew Bledsoe\n",
      "Tommy Maddox\n"
     ]
    }
   ],
   "source": [
    "rookie_dict = getMyRookies(Seasons)"
   ]
  },
  {
   "cell_type": "code",
   "execution_count": 7,
   "metadata": {
    "collapsed": false
   },
   "outputs": [
    {
     "data": {
      "text/plain": [
       "{u'Akili Smith': {'Team': u'CIN', 'Year Played': 1999},\n",
       " u'Alex Smith': {'Team': u'SF', 'Year Played': 2005},\n",
       " u'Andrew Luck': {'Team': u'IND', 'Year Played': 2012},\n",
       " u'Andy Dalton': {'Team': u'CIN', 'Year Played': 2011},\n",
       " u'Ben Roethlisberger': {'Team': u'PIT', 'Year Played': 2004},\n",
       " u'Blaine Gabbert': {'Team': u'JAC', 'Year Played': 2011},\n",
       " u'Blake Bortles': {'Team': u'JAC', 'Year Played': 2014},\n",
       " u'Brandon Weeden': {'Team': u'CLE', 'Year Played': 2012},\n",
       " u'Bruce Gradkowski': {'Team': u'TB', 'Year Played': 2006},\n",
       " u'Byron Leftwich': {'Team': u'JAC', 'Year Played': 2003},\n",
       " u'Cade McNown': {'Team': u'CHI', 'Year Played': 1999},\n",
       " u'Cam Newton': {'Team': u'CAR', 'Year Played': 2011},\n",
       " u'Chad Hutchinson': {'Team': u'DAL', 'Year Played': 2002},\n",
       " u'Charlie Batch': {'Team': u'DET', 'Year Played': 1998},\n",
       " u'Charlie Frye': {'Team': u'CLE', 'Year Played': 2005},\n",
       " u'Chris Weinke': {'Team': u'CAR', 'Year Played': 2001},\n",
       " u'Christian Ponder': {'Team': u'MIN', 'Year Played': 2011},\n",
       " u'Colt McCoy': {'Team': u'CLE', 'Year Played': 2010},\n",
       " u'Craig Krenzel': {'Team': u'CHI', 'Year Played': 2004},\n",
       " u'David Carr': {'Team': u'HOU', 'Year Played': 2002},\n",
       " u'Derek Carr': {'Team': u'OAK', 'Year Played': 2014},\n",
       " u'Donovan McNabb': {'Team': u'PHI', 'Year Played': 1999},\n",
       " u'Drew Bledsoe': {'Team': u'NE', 'Year Played': 1993},\n",
       " u'EJ Manuel': {'Team': u'BUF', 'Year Played': 2013},\n",
       " u'Eli Manning': {'Team': u'NYG', 'Year Played': 2004},\n",
       " u'Eric Zeier': {'Team': u'CLE', 'Year Played': 1995},\n",
       " u'Geno Smith': {'Team': u'NYJ', 'Year Played': 2013},\n",
       " u'Heath Shuler': {'Team': u'WAS', 'Year Played': 1994},\n",
       " u'Jake Plummer': {'Team': u'ARI', 'Year Played': 1997},\n",
       " u'Jay Cutler': {'Team': u'DEN', 'Year Played': 2006},\n",
       " u'Jimmy Clausen': {'Team': u'CAR', 'Year Played': 2010},\n",
       " u'Joey Harrington': {'Team': u'DET', 'Year Played': 2002},\n",
       " u'John Beck': {'Team': u'MIA', 'Year Played': 2007},\n",
       " u'Josh Freeman': {'Team': u'TB', 'Year Played': 2009},\n",
       " u'Kerry Collins': {'Team': u'CAR', 'Year Played': 1995},\n",
       " u'Kyle Boller': {'Team': u'BAL', 'Year Played': 2003},\n",
       " u'Kyle Orton': {'Team': u'CHI', 'Year Played': 2005},\n",
       " u'Mark Sanchez': {'Team': u'NYJ', 'Year Played': 2009},\n",
       " u'Matt Leinart': {'Team': u'ARI', 'Year Played': 2006},\n",
       " u'Matt McGloin': {'Team': u'OAK', 'Year Played': 2013},\n",
       " u'Matt Moore': {'Team': u'CAR', 'Year Played': 2007},\n",
       " u'Matt Ryan': {'Team': u'ATL', 'Year Played': 2008},\n",
       " u'Matthew Stafford': {'Team': u'DET', 'Year Played': 2009},\n",
       " u'Michael Vick': {'Team': u'ATL', 'Year Played': 2001},\n",
       " u'Mike Glennon': {'Team': u'TB', 'Year Played': 2013},\n",
       " u'Mike McMahon': {'Team': u'DET', 'Year Played': 2001},\n",
       " u'Nick Foles': {'Team': u'PHI', 'Year Played': 2012},\n",
       " u'Patrick Ramsey': {'Team': u'WAS', 'Year Played': 2002},\n",
       " u'Peyton Manning': {'Team': u'IND', 'Year Played': 1998},\n",
       " u'Quincy Carter': {'Team': u'DAL', 'Year Played': 2001},\n",
       " u'Rick Mirer': {'Team': u'SEA', 'Year Played': 1993},\n",
       " u'Robert Griffin III': {'Team': u'WAS', 'Year Played': 2012},\n",
       " u'Russell Wilson': {'Team': u'SEA', 'Year Played': 2012},\n",
       " u'Ryan Leaf': {'Team': u'SD', 'Year Played': 1998},\n",
       " u'Ryan Lindley': {'Team': u'ARI', 'Year Played': 2012},\n",
       " u'Ryan Tannehill': {'Team': u'MIA', 'Year Played': 2012},\n",
       " u'Sam Bradford': {'Team': u'STL', 'Year Played': 2010},\n",
       " u'Shaun King': {'Team': u'TB', 'Year Played': 1999},\n",
       " u'T.J. Yates': {'Team': u'HOU', 'Year Played': 2011},\n",
       " u'Teddy Bridgewater': {'Team': u'MIN', 'Year Played': 2014},\n",
       " u'Tim Couch': {'Team': u'CLE', 'Year Played': 1999},\n",
       " u'Tommy Maddox': {'Team': u'DEN', 'Year Played': 1992},\n",
       " u'Tony Banks': {'Team': u'STL', 'Year Played': 1996},\n",
       " u'Trent Edwards': {'Team': u'BUF', 'Year Played': 2007},\n",
       " u'Vince Young': {'Team': u'TEN', 'Year Played': 2006},\n",
       " u'Zach Mettenberger': {'Team': u'TEN', 'Year Played': 2014}}"
      ]
     },
     "execution_count": 7,
     "metadata": {},
     "output_type": "execute_result"
    }
   ],
   "source": [
    "rookie_dict"
   ]
  },
  {
   "cell_type": "markdown",
   "metadata": {},
   "source": [
    "Now utilizing the two dictionaries we will gather our response"
   ]
  },
  {
   "cell_type": "code",
   "execution_count": 45,
   "metadata": {
    "collapsed": false
   },
   "outputs": [],
   "source": [
    "def W_L_Record(list_of_names):\n",
    "    win_loss_list = []\n",
    "    for name in list_of_names:\n",
    "        abrv_team_name = rookie_dict[name]['Team']\n",
    "        year_played  = rookie_dict[name]['Year Played']\n",
    "        full_team_name = full_name_dict[abrv_team_name]\n",
    "        full_team_name = full_team_name.lower().replace(\" \",\"-\").replace('.','') #This converts e.g. Baltimore Ravens => baltimore-ravens. we do this because of the format of  the url\n",
    "        url = 'http://www.footballdb.com/teams/nfl/' + full_team_name + '/history'\n",
    "        r = requests.get(url)\n",
    "        \n",
    "        \n",
    "        bs = BeautifulSoup(r.text, 'html.parser')\n",
    "        rows = bs.find(name = 'tbody').find_all(name = 'tr')\n",
    "        for row in rows: \n",
    "            cols = row.find_all(name = 'td')\n",
    "            if int(cols[0].text) == year_played: \n",
    "                wins = int(cols[3].text)\n",
    "                losses = int(cols[4].text)\n",
    "                win_loss = str(wins) + '-' + str(losses)\n",
    "                win_loss_list.append([wins, losses,win_loss])\n",
    "    return win_loss_list\n",
    "        "
   ]
  },
  {
   "cell_type": "code",
   "execution_count": 46,
   "metadata": {
    "collapsed": false
   },
   "outputs": [
    {
     "data": {
      "text/plain": [
       "[[4, 12, '4-12'],\n",
       " [4, 12, '4-12'],\n",
       " [11, 5, '11-5'],\n",
       " [9, 7, '9-7'],\n",
       " [5, 11, '5-11'],\n",
       " [3, 13, '3-13'],\n",
       " [5, 11, '5-11'],\n",
       " [4, 12, '4-12'],\n",
       " [6, 10, '6-10'],\n",
       " [6, 10, '6-10'],\n",
       " [5, 11, '5-11'],\n",
       " [6, 10, '6-10'],\n",
       " [1, 15, '1-15'],\n",
       " [3, 13, '3-13'],\n",
       " [5, 11, '5-11'],\n",
       " [3, 13, '3-13'],\n",
       " [5, 11, '5-11'],\n",
       " [5, 11, '5-11'],\n",
       " [6, 10, '6-10'],\n",
       " [5, 11, '5-11'],\n",
       " [8, 8, '8-8'],\n",
       " [3, 13, '3-13'],\n",
       " [4, 12, '4-12'],\n",
       " [9, 7, '9-7'],\n",
       " [2, 14, '2-14'],\n",
       " [1, 15, '1-15'],\n",
       " [3, 13, '3-13'],\n",
       " [7, 9, '7-9'],\n",
       " [11, 5, '11-5'],\n",
       " [9, 7, '9-7'],\n",
       " [5, 11, '5-11'],\n",
       " [4, 12, '4-12'],\n",
       " [7, 9, '7-9'],\n",
       " [11, 5, '11-5'],\n",
       " [2, 14, '2-14'],\n",
       " [7, 9, '7-9'],\n",
       " [4, 12, '4-12'],\n",
       " [2, 14, '2-14'],\n",
       " [4, 12, '4-12'],\n",
       " [3, 13, '3-13'],\n",
       " [5, 11, '5-11'],\n",
       " [6, 10, '6-10'],\n",
       " [10, 6, '10-6'],\n",
       " [11, 5, '11-5'],\n",
       " [5, 11, '5-11'],\n",
       " [5, 11, '5-11'],\n",
       " [7, 9, '7-9'],\n",
       " [7, 9, '7-9'],\n",
       " [11, 5, '11-5'],\n",
       " [10, 6, '10-6'],\n",
       " [7, 9, '7-9'],\n",
       " [2, 14, '2-14'],\n",
       " [8, 8, '8-8'],\n",
       " [6, 10, '6-10'],\n",
       " [7, 9, '7-9'],\n",
       " [8, 8, '8-8'],\n",
       " [2, 14, '2-14'],\n",
       " [15, 1, '15-1'],\n",
       " [5, 11, '5-11'],\n",
       " [5, 11, '5-11'],\n",
       " [5, 11, '5-11'],\n",
       " [4, 12, '4-12'],\n",
       " [6, 10, '6-10'],\n",
       " [3, 13, '3-13'],\n",
       " [10, 6, '10-6'],\n",
       " [7, 9, '7-9']]"
      ]
     },
     "execution_count": 46,
     "metadata": {},
     "output_type": "execute_result"
    }
   ],
   "source": [
    "W_L_Record = W_L_Record(rookies.Name.tolist())\n",
    "W_L_Record"
   ]
  },
  {
   "cell_type": "code",
   "execution_count": 52,
   "metadata": {
    "collapsed": false
   },
   "outputs": [],
   "source": [
    "# Now that we have the win loss record in a array we can access the wins element and concatenate \n",
    "#that with our original dataframe \n",
    "rookies['Wins'] = [record[0] for record in W_L_Record]"
   ]
  },
  {
   "cell_type": "code",
   "execution_count": 53,
   "metadata": {
    "collapsed": false
   },
   "outputs": [
    {
     "data": {
      "text/html": [
       "<div>\n",
       "<table border=\"1\" class=\"dataframe\">\n",
       "  <thead>\n",
       "    <tr style=\"text-align: right;\">\n",
       "      <th></th>\n",
       "      <th>Name</th>\n",
       "      <th>CMP</th>\n",
       "      <th>Attps</th>\n",
       "      <th>PCT</th>\n",
       "      <th>Yds</th>\n",
       "      <th>Y/A</th>\n",
       "      <th>AY/A</th>\n",
       "      <th>TDs</th>\n",
       "      <th>Int</th>\n",
       "      <th>Rate</th>\n",
       "      <th>Win Loss Record</th>\n",
       "      <th>Wins</th>\n",
       "    </tr>\n",
       "  </thead>\n",
       "  <tbody>\n",
       "    <tr>\n",
       "      <th>0</th>\n",
       "      <td>Akili Smith</td>\n",
       "      <td>323</td>\n",
       "      <td>571</td>\n",
       "      <td>56.6</td>\n",
       "      <td>5148</td>\n",
       "      <td>9.0</td>\n",
       "      <td>9.4</td>\n",
       "      <td>45</td>\n",
       "      <td>15</td>\n",
       "      <td>153.1</td>\n",
       "      <td>[4, 12, 4-12]</td>\n",
       "      <td>4</td>\n",
       "    </tr>\n",
       "    <tr>\n",
       "      <th>1</th>\n",
       "      <td>Alex Smith</td>\n",
       "      <td>389</td>\n",
       "      <td>587</td>\n",
       "      <td>66.3</td>\n",
       "      <td>5203</td>\n",
       "      <td>8.9</td>\n",
       "      <td>9.9</td>\n",
       "      <td>47</td>\n",
       "      <td>8</td>\n",
       "      <td>164.4</td>\n",
       "      <td>[4, 12, 4-12]</td>\n",
       "      <td>4</td>\n",
       "    </tr>\n",
       "    <tr>\n",
       "      <th>2</th>\n",
       "      <td>Andrew Luck</td>\n",
       "      <td>713</td>\n",
       "      <td>1064</td>\n",
       "      <td>67.0</td>\n",
       "      <td>9430</td>\n",
       "      <td>8.9</td>\n",
       "      <td>9.5</td>\n",
       "      <td>82</td>\n",
       "      <td>22</td>\n",
       "      <td>162.8</td>\n",
       "      <td>[11, 5, 11-5]</td>\n",
       "      <td>11</td>\n",
       "    </tr>\n",
       "    <tr>\n",
       "      <th>3</th>\n",
       "      <td>Andy Dalton</td>\n",
       "      <td>812</td>\n",
       "      <td>1317</td>\n",
       "      <td>61.7</td>\n",
       "      <td>10314</td>\n",
       "      <td>7.8</td>\n",
       "      <td>7.9</td>\n",
       "      <td>71</td>\n",
       "      <td>30</td>\n",
       "      <td>140.7</td>\n",
       "      <td>[9, 7, 9-7]</td>\n",
       "      <td>9</td>\n",
       "    </tr>\n",
       "    <tr>\n",
       "      <th>4</th>\n",
       "      <td>Blaine Gabbert</td>\n",
       "      <td>568</td>\n",
       "      <td>933</td>\n",
       "      <td>60.9</td>\n",
       "      <td>6822</td>\n",
       "      <td>7.3</td>\n",
       "      <td>7.3</td>\n",
       "      <td>40</td>\n",
       "      <td>18</td>\n",
       "      <td>132.6</td>\n",
       "      <td>[5, 11, 5-11]</td>\n",
       "      <td>5</td>\n",
       "    </tr>\n",
       "  </tbody>\n",
       "</table>\n",
       "</div>"
      ],
      "text/plain": [
       "             Name  CMP  Attps   PCT    Yds  Y/A  AY/A  TDs  Int   Rate  \\\n",
       "0     Akili Smith  323    571  56.6   5148  9.0   9.4   45   15  153.1   \n",
       "1      Alex Smith  389    587  66.3   5203  8.9   9.9   47    8  164.4   \n",
       "2     Andrew Luck  713   1064  67.0   9430  8.9   9.5   82   22  162.8   \n",
       "3     Andy Dalton  812   1317  61.7  10314  7.8   7.9   71   30  140.7   \n",
       "4  Blaine Gabbert  568    933  60.9   6822  7.3   7.3   40   18  132.6   \n",
       "\n",
       "  Win Loss Record  Wins  \n",
       "0   [4, 12, 4-12]     4  \n",
       "1   [4, 12, 4-12]     4  \n",
       "2   [11, 5, 11-5]    11  \n",
       "3     [9, 7, 9-7]     9  \n",
       "4   [5, 11, 5-11]     5  "
      ]
     },
     "execution_count": 53,
     "metadata": {},
     "output_type": "execute_result"
    }
   ],
   "source": [
    "rookies.head()"
   ]
  },
  {
   "cell_type": "markdown",
   "metadata": {},
   "source": [
    "My project question is a classification problem so we want our response to have two outcomes.\n",
    "\n",
    "**0:** The player has less than 7 wins\n",
    "\n",
    "**1:** The player has greater or equal to 7 wins\n",
    "\n",
    "Lets transform our win column into a binary classification problem"
   ]
  },
  {
   "cell_type": "code",
   "execution_count": 54,
   "metadata": {
    "collapsed": true
   },
   "outputs": [],
   "source": [
    "rookies['Greater than 7 wins'] = rookies.Wins.map(lambda x: 1 if x >= 7 else 0)"
   ]
  },
  {
   "cell_type": "code",
   "execution_count": 55,
   "metadata": {
    "collapsed": false
   },
   "outputs": [
    {
     "data": {
      "text/html": [
       "<div>\n",
       "<table border=\"1\" class=\"dataframe\">\n",
       "  <thead>\n",
       "    <tr style=\"text-align: right;\">\n",
       "      <th></th>\n",
       "      <th>Name</th>\n",
       "      <th>CMP</th>\n",
       "      <th>Attps</th>\n",
       "      <th>PCT</th>\n",
       "      <th>Yds</th>\n",
       "      <th>Y/A</th>\n",
       "      <th>AY/A</th>\n",
       "      <th>TDs</th>\n",
       "      <th>Int</th>\n",
       "      <th>Rate</th>\n",
       "      <th>Win Loss Record</th>\n",
       "      <th>Wins</th>\n",
       "      <th>Greater than 7 wins</th>\n",
       "    </tr>\n",
       "  </thead>\n",
       "  <tbody>\n",
       "    <tr>\n",
       "      <th>0</th>\n",
       "      <td>Akili Smith</td>\n",
       "      <td>323</td>\n",
       "      <td>571</td>\n",
       "      <td>56.6</td>\n",
       "      <td>5148</td>\n",
       "      <td>9.0</td>\n",
       "      <td>9.4</td>\n",
       "      <td>45</td>\n",
       "      <td>15</td>\n",
       "      <td>153.1</td>\n",
       "      <td>[4, 12, 4-12]</td>\n",
       "      <td>4</td>\n",
       "      <td>0</td>\n",
       "    </tr>\n",
       "    <tr>\n",
       "      <th>1</th>\n",
       "      <td>Alex Smith</td>\n",
       "      <td>389</td>\n",
       "      <td>587</td>\n",
       "      <td>66.3</td>\n",
       "      <td>5203</td>\n",
       "      <td>8.9</td>\n",
       "      <td>9.9</td>\n",
       "      <td>47</td>\n",
       "      <td>8</td>\n",
       "      <td>164.4</td>\n",
       "      <td>[4, 12, 4-12]</td>\n",
       "      <td>4</td>\n",
       "      <td>0</td>\n",
       "    </tr>\n",
       "    <tr>\n",
       "      <th>2</th>\n",
       "      <td>Andrew Luck</td>\n",
       "      <td>713</td>\n",
       "      <td>1064</td>\n",
       "      <td>67.0</td>\n",
       "      <td>9430</td>\n",
       "      <td>8.9</td>\n",
       "      <td>9.5</td>\n",
       "      <td>82</td>\n",
       "      <td>22</td>\n",
       "      <td>162.8</td>\n",
       "      <td>[11, 5, 11-5]</td>\n",
       "      <td>11</td>\n",
       "      <td>1</td>\n",
       "    </tr>\n",
       "    <tr>\n",
       "      <th>3</th>\n",
       "      <td>Andy Dalton</td>\n",
       "      <td>812</td>\n",
       "      <td>1317</td>\n",
       "      <td>61.7</td>\n",
       "      <td>10314</td>\n",
       "      <td>7.8</td>\n",
       "      <td>7.9</td>\n",
       "      <td>71</td>\n",
       "      <td>30</td>\n",
       "      <td>140.7</td>\n",
       "      <td>[9, 7, 9-7]</td>\n",
       "      <td>9</td>\n",
       "      <td>1</td>\n",
       "    </tr>\n",
       "    <tr>\n",
       "      <th>4</th>\n",
       "      <td>Blaine Gabbert</td>\n",
       "      <td>568</td>\n",
       "      <td>933</td>\n",
       "      <td>60.9</td>\n",
       "      <td>6822</td>\n",
       "      <td>7.3</td>\n",
       "      <td>7.3</td>\n",
       "      <td>40</td>\n",
       "      <td>18</td>\n",
       "      <td>132.6</td>\n",
       "      <td>[5, 11, 5-11]</td>\n",
       "      <td>5</td>\n",
       "      <td>0</td>\n",
       "    </tr>\n",
       "  </tbody>\n",
       "</table>\n",
       "</div>"
      ],
      "text/plain": [
       "             Name  CMP  Attps   PCT    Yds  Y/A  AY/A  TDs  Int   Rate  \\\n",
       "0     Akili Smith  323    571  56.6   5148  9.0   9.4   45   15  153.1   \n",
       "1      Alex Smith  389    587  66.3   5203  8.9   9.9   47    8  164.4   \n",
       "2     Andrew Luck  713   1064  67.0   9430  8.9   9.5   82   22  162.8   \n",
       "3     Andy Dalton  812   1317  61.7  10314  7.8   7.9   71   30  140.7   \n",
       "4  Blaine Gabbert  568    933  60.9   6822  7.3   7.3   40   18  132.6   \n",
       "\n",
       "  Win Loss Record  Wins  Greater than 7 wins  \n",
       "0   [4, 12, 4-12]     4                    0  \n",
       "1   [4, 12, 4-12]     4                    0  \n",
       "2   [11, 5, 11-5]    11                    1  \n",
       "3     [9, 7, 9-7]     9                    1  \n",
       "4   [5, 11, 5-11]     5                    0  "
      ]
     },
     "execution_count": 55,
     "metadata": {},
     "output_type": "execute_result"
    }
   ],
   "source": [
    "rookies.head()"
   ]
  },
  {
   "cell_type": "markdown",
   "metadata": {},
   "source": [
    "Finally we can get to explore our dataset now that it is compiled "
   ]
  },
  {
   "cell_type": "code",
   "execution_count": 58,
   "metadata": {
    "collapsed": false
   },
   "outputs": [
    {
     "data": {
      "text/plain": [
       "<matplotlib.axes._subplots.AxesSubplot at 0x10aded3d0>"
      ]
     },
     "execution_count": 58,
     "metadata": {},
     "output_type": "execute_result"
    },
    {
     "data": {
      "image/png": "[encoded data removed]",
      "text/plain": [
       "<matplotlib.figure.Figure at 0x109c01850>"
      ]
     },
     "metadata": {},
     "output_type": "display_data"
    },
    {
     "data": {
      "image/png": "[encoded data removed]",
      "text/plain": [
       "<matplotlib.figure.Figure at 0x1096bbe10>"
      ]
     },
     "metadata": {},
     "output_type": "display_data"
    },
    {
     "data": {
      "image/png": "[encoded data removed]",
      "text/plain": [
       "<matplotlib.figure.Figure at 0x109b0cf90>"
      ]
     },
     "metadata": {},
     "output_type": "display_data"
    },
    {
     "data": {
      "image/png": "[encoded data removed]",
      "text/plain": [
       "<matplotlib.figure.Figure at 0x10936e7d0>"
      ]
     },
     "metadata": {},
     "output_type": "display_data"
    },
    {
     "data": {
      "image/png": "[encoded data removed]",
      "text/plain": [
       "<matplotlib.figure.Figure at 0x10a7c1f50>"
      ]
     },
     "metadata": {},
     "output_type": "display_data"
    }
   ],
   "source": [
    "%matplotlib inline\n",
    "rookies.plot(kind = 'scatter', x = 'PCT', y = 'Wins') \n",
    "rookies.plot(kind = 'scatter', x = 'Y/A', y = 'Wins') \n",
    "rookies.plot(kind = 'scatter', x = 'Yds', y = 'Wins') \n",
    "rookies.plot(kind = 'scatter', x = 'TDs', y = 'Wins')\n",
    "rookies.plot(kind = 'scatter', x = 'Int', y = 'Wins')\n",
    "\n",
    "#From these graphs we see no apparent linear trend"
   ]
  },
  {
   "cell_type": "markdown",
   "metadata": {},
   "source": [
    "**Model Evaluation**"
   ]
  },
  {
   "cell_type": "code",
   "execution_count": 62,
   "metadata": {
    "collapsed": false
   },
   "outputs": [
    {
     "data": {
      "text/plain": [
       "Index([u'Name', u'CMP', u'Attps', u'PCT', u'Yds', u'Y/A', u'AY/A', u'TDs',\n",
       "       u'Int', u'Rate', u'Win Loss Record', u'Wins', u'Greater than 7 wins'],\n",
       "      dtype='object')"
      ]
     },
     "execution_count": 62,
     "metadata": {},
     "output_type": "execute_result"
    }
   ],
   "source": [
    "rookies.columns"
   ]
  },
  {
   "cell_type": "code",
   "execution_count": 68,
   "metadata": {
    "collapsed": false
   },
   "outputs": [],
   "source": [
    "feature_cols = ['CMP', 'Attps', 'PCT', 'Yds', 'Y/A', 'AY/A', 'TDs','Int', 'Rate']\n",
    "X = rookies[feature_cols]\n",
    "y = rookies['Greater than 7 wins']"
   ]
  },
  {
   "cell_type": "code",
   "execution_count": 69,
   "metadata": {
    "collapsed": false
   },
   "outputs": [
    {
     "name": "stdout",
     "output_type": "stream",
     "text": [
      "(49, 9)\n",
      "(17, 9)\n"
     ]
    }
   ],
   "source": [
    "from sklearn.cross_validation import train_test_split\n",
    "X_train, X_test, y_train, y_test = train_test_split(X, y, random_state=1)\n",
    "print X_train.shape\n",
    "print X_test.shape"
   ]
  },
  {
   "cell_type": "code",
   "execution_count": 78,
   "metadata": {
    "collapsed": false
   },
   "outputs": [],
   "source": [
    "from sklearn.linear_model import LogisticRegression\n",
    "logreg = LogisticRegression(C=1e9)\n",
    "logreg.fit(X_train, y_train)\n",
    "y_pred_class = logreg.predict(X_test)\n",
    "y_pred_proba = logreg.predict_proba(X_test)"
   ]
  },
  {
   "cell_type": "code",
   "execution_count": 81,
   "metadata": {
    "collapsed": false
   },
   "outputs": [
    {
     "data": {
      "text/plain": [
       "[('CMP', 0.027382605992985219),\n",
       " ('Attps', 0.0070983024719288839),\n",
       " ('PCT', -0.3013551802893632),\n",
       " ('Yds', -0.0024220845562318689),\n",
       " ('Y/A', 0.54559378385086332),\n",
       " ('AY/A', 0.0098320738511741695),\n",
       " ('TDs', -0.081920074526070599),\n",
       " ('Int', -0.011772110805492489),\n",
       " ('Rate', 0.090841101273704386)]"
      ]
     },
     "execution_count": 81,
     "metadata": {},
     "output_type": "execute_result"
    }
   ],
   "source": [
    "zip(feature_cols, logreg.coef_[0])"
   ]
  },
  {
   "cell_type": "markdown",
   "metadata": {},
   "source": [
    "A glance at our coeffecients doesn't make intuitive sense. For example a unit increase in TDs has a -0.08 log odds decrease in having wins greater or equal to 7. We should expect that coeffecient to be positive, as increasing our odds of having a \"successfull season\" "
   ]
  },
  {
   "cell_type": "code",
   "execution_count": 82,
   "metadata": {
    "collapsed": false
   },
   "outputs": [
    {
     "name": "stdout",
     "output_type": "stream",
     "text": [
      "0.352941176471\n"
     ]
    }
   ],
   "source": [
    "from sklearn import metrics\n",
    "print metrics.accuracy_score(y_test, y_pred_class)"
   ]
  },
  {
   "cell_type": "code",
   "execution_count": 92,
   "metadata": {
    "collapsed": false
   },
   "outputs": [
    {
     "name": "stdout",
     "output_type": "stream",
     "text": [
      "[1 1 1 1 0 1 0 0 0 0 1 0 1 1 1 0 1]\n",
      "[0 0 0 0 1 0 0 1 0 0 0 0 0 1 0 0 0]\n",
      "0.588235294118\n"
     ]
    }
   ],
   "source": [
    "print y_test\n",
    "print y_pred_class\n",
    "null_accurracy = sum(y_test)/float(len(y_test))\n",
    "print null_accurracy"
   ]
  },
  {
   "cell_type": "markdown",
   "metadata": {},
   "source": [
    "Our model did worst then the null model. Meaning we need to select better features or select a different model. "
   ]
  },
  {
   "cell_type": "markdown",
   "metadata": {},
   "source": [
    "Lets add a few addtional features: college years played, NFL team previous years record, rushing stats"
   ]
  },
  {
   "cell_type": "code",
   "execution_count": null,
   "metadata": {
    "collapsed": true
   },
   "outputs": [],
   "source": []
  }
 ],
 "metadata": {
  "kernelspec": {
   "display_name": "Python 2",
   "language": "python",
   "name": "python2"
  },
  "language_info": {
   "codemirror_mode": {
    "name": "ipython",
    "version": 2
   },
   "file_extension": ".py",
   "mimetype": "text/x-python",
   "name": "python",
   "nbconvert_exporter": "python",
   "pygments_lexer": "ipython2",
   "version": "2.7.10"
  }
 },
 "nbformat": 4,
 "nbformat_minor": 0
}
