{
 "cells": [
  {
   "cell_type": "markdown",
   "metadata": {},
   "source": [
    "<h1>Project Question:</h1> <h3> Can we predict a Rookie QB starting in the NFL will have a “successful” season (7 wins or more) utilizing College Football statistics (Passer Effeciency Rating, Winning percentage, TDs per Game, Passing Yards per Game, etc.)</h3>\n",
    "\n",
    "**Background:**\n",
    "In the past decade there has been a large increase in Rookie QBs starting Week 1 in the NFL Regular Season. NFL teams have burned through a large amount of money completely relying on these Rookie QBs to make an immediate impact. \n"
   ]
  },
  {
   "cell_type": "code",
   "execution_count": 41,
   "metadata": {
    "collapsed": false
   },
   "outputs": [],
   "source": [
    "import pandas as pd \n",
    "from bs4 import BeautifulSoup \n",
    "import requests \n",
    "from time import sleep\n",
    "rookies = pd.read_csv('Rookies_CFB_Stats.csv')\n",
    "rookies.rename(columns = {'Unnamed: 0': 'Name'}, inplace = True)"
   ]
  },
  {
   "cell_type": "code",
   "execution_count": 42,
   "metadata": {
    "collapsed": false
   },
   "outputs": [
    {
     "data": {
      "text/html": [
       "<div>\n",
       "<table border=\"1\" class=\"dataframe\">\n",
       "  <thead>\n",
       "    <tr style=\"text-align: right;\">\n",
       "      <th></th>\n",
       "      <th>Name</th>\n",
       "      <th>CMP</th>\n",
       "      <th>Attps</th>\n",
       "      <th>PCT</th>\n",
       "      <th>Yds</th>\n",
       "      <th>Y/A</th>\n",
       "      <th>AY/A</th>\n",
       "      <th>TDs</th>\n",
       "      <th>Int</th>\n",
       "      <th>Rate</th>\n",
       "    </tr>\n",
       "  </thead>\n",
       "  <tbody>\n",
       "    <tr>\n",
       "      <th>0</th>\n",
       "      <td>Akili Smith</td>\n",
       "      <td>323</td>\n",
       "      <td>571</td>\n",
       "      <td>56.6</td>\n",
       "      <td>5148</td>\n",
       "      <td>9.0</td>\n",
       "      <td>9.4</td>\n",
       "      <td>45</td>\n",
       "      <td>15</td>\n",
       "      <td>153.1</td>\n",
       "    </tr>\n",
       "    <tr>\n",
       "      <th>1</th>\n",
       "      <td>Alex Smith</td>\n",
       "      <td>389</td>\n",
       "      <td>587</td>\n",
       "      <td>66.3</td>\n",
       "      <td>5203</td>\n",
       "      <td>8.9</td>\n",
       "      <td>9.9</td>\n",
       "      <td>47</td>\n",
       "      <td>8</td>\n",
       "      <td>164.4</td>\n",
       "    </tr>\n",
       "    <tr>\n",
       "      <th>2</th>\n",
       "      <td>Andrew Luck</td>\n",
       "      <td>713</td>\n",
       "      <td>1064</td>\n",
       "      <td>67.0</td>\n",
       "      <td>9430</td>\n",
       "      <td>8.9</td>\n",
       "      <td>9.5</td>\n",
       "      <td>82</td>\n",
       "      <td>22</td>\n",
       "      <td>162.8</td>\n",
       "    </tr>\n",
       "    <tr>\n",
       "      <th>3</th>\n",
       "      <td>Andy Dalton</td>\n",
       "      <td>812</td>\n",
       "      <td>1317</td>\n",
       "      <td>61.7</td>\n",
       "      <td>10314</td>\n",
       "      <td>7.8</td>\n",
       "      <td>7.9</td>\n",
       "      <td>71</td>\n",
       "      <td>30</td>\n",
       "      <td>140.7</td>\n",
       "    </tr>\n",
       "    <tr>\n",
       "      <th>4</th>\n",
       "      <td>Blaine Gabbert</td>\n",
       "      <td>568</td>\n",
       "      <td>933</td>\n",
       "      <td>60.9</td>\n",
       "      <td>6822</td>\n",
       "      <td>7.3</td>\n",
       "      <td>7.3</td>\n",
       "      <td>40</td>\n",
       "      <td>18</td>\n",
       "      <td>132.6</td>\n",
       "    </tr>\n",
       "  </tbody>\n",
       "</table>\n",
       "</div>"
      ],
      "text/plain": [
       "             Name  CMP  Attps   PCT    Yds  Y/A  AY/A  TDs  Int   Rate\n",
       "0     Akili Smith  323    571  56.6   5148  9.0   9.4   45   15  153.1\n",
       "1      Alex Smith  389    587  66.3   5203  8.9   9.9   47    8  164.4\n",
       "2     Andrew Luck  713   1064  67.0   9430  8.9   9.5   82   22  162.8\n",
       "3     Andy Dalton  812   1317  61.7  10314  7.8   7.9   71   30  140.7\n",
       "4  Blaine Gabbert  568    933  60.9   6822  7.3   7.3   40   18  132.6"
      ]
     },
     "execution_count": 42,
     "metadata": {},
     "output_type": "execute_result"
    }
   ],
   "source": [
    "rookies.head()"
   ]
  },
  {
   "cell_type": "markdown",
   "metadata": {},
   "source": [
    "Above is my data webscraped from <a href = \"http://www.nfl.com/stats/categorystats?archive=true&conference=null&statisticPositionCategory=QUARTERBACK&season=2014&seasonType=REG&experience=0&tabSeq=1&qualified=false&Submit=Go\">nfl.com</a> for the names of rookies that started week 1 and <a href = \"http://www.sports-reference.com/cfb/players/peyton-manning-1.html\">here</a> for there corresponding college football statistics.\n",
    "Webscraping code found in other file. \n",
    "<br>\n",
    "\n",
    "**Data Dictionary**\n",
    "\n",
    "**CMP:** Pass Completions\n",
    "\n",
    "**Attps:** Pass Attempts\n",
    "\n",
    "**PCT:** Pass Completion Percentage \n",
    "\n",
    "**Yds:** Passing Yards\n",
    "\n",
    "**Y/A:** Passing Yards per Attempt \n",
    "\n",
    "**AY/A:** Adjusted Passing Yards Per Attempt; the formula is AY/A = (Yds + 20 *TD - 45 * Int) / Att\n",
    "\n",
    "**TDs:** Touchdowns \n",
    "\n",
    "**Int:** Interceptions\n",
    "\n",
    "**Rate:** Passing Efficiency Rating; the formula is (8.4 * Yds + 330 * TD - 200 * Int + 100 * Cmp) / Att"
   ]
  },
  {
   "cell_type": "markdown",
   "metadata": {},
   "source": [
    "We need our response in our dataset . Our response is the W-L record of the player's Rookie year."
   ]
  },
  {
   "cell_type": "markdown",
   "metadata": {},
   "source": [
    "**Our Approach**: We will define a function that will webscrape [footballgeograph.com](http://www.footballgeography.com/sample-page-2/pro-football-abbreviations/) to grab the abbreviations for each NFL Team and store it in a dictionary for lookup(e.g. {BAL :Baltimore Ravens}. We do this to grab the W-L for the corresponding Rookie as a result of the website we will be gathering our response ([TheFootballDatabase](http://www.footballdb.com/teams/index.html)) takes the full NFL Team Name e.g. Baltimore Ravens instead of BAL to reference the W-L record. "
   ]
  },
  {
   "cell_type": "code",
   "execution_count": 43,
   "metadata": {
    "collapsed": false
   },
   "outputs": [],
   "source": [
    "def getfull_Team_Name():\n",
    "    d = {}\n",
    "    url = 'http://www.footballgeography.com/sample-page-2/pro-football-abbreviations/'\n",
    "    r = requests.get(url)\n",
    "    bs = BeautifulSoup(r.text, 'html.parser')\n",
    "    rows = bs.find(name = 'tbody').find_all(name = 'tr')\n",
    "    sleep(1)\n",
    "    for row in rows[:100]: \n",
    "        cols = row.find_all(name = 'td')\n",
    "        abrv = cols[0].text\n",
    "        full_name = cols[1].text\n",
    "        d[abrv] = full_name\n",
    "    return d\n",
    "        \n",
    "    "
   ]
  },
  {
   "cell_type": "code",
   "execution_count": 44,
   "metadata": {
    "collapsed": false
   },
   "outputs": [
    {
     "data": {
      "text/plain": [
       "{u'AKI': u'Akron Indians',\n",
       " u'AKR': u'Akron Pros',\n",
       " 'ARI': u'Arizona Cardinals',\n",
       " u'ATL': u'Atlanta Falcons',\n",
       " u'BAC': u'Baltimore Colts',\n",
       " u'BAL': u'Baltimore Ravens',\n",
       " u'BAO': u'Baltimore Colts (1946-50)',\n",
       " u'BKB': u'Bkn Tigers-Bos Yanks',\n",
       " u'BKD': u'Brooklyn Dodgers (1930-43)',\n",
       " u'BKL': u'Brooklyn Lions',\n",
       " u'BKN': u'Brooklyn Dodgers (1946-48)',\n",
       " u'BKT': u'Brooklyn Tigers',\n",
       " u'BOB': u'Boston Braves',\n",
       " u'BOD': u'Boston Bulldogs',\n",
       " u'BOR': u'Boston Redskins',\n",
       " u'BOS': u'Boston Patriots',\n",
       " u'BOY': u'Boston Yanks',\n",
       " u'BUA': u'Buffalo All-Americans',\n",
       " u'BUB': u'Buffalo Bisons (1946)',\n",
       " u'BUF': u'Buffalo Bills',\n",
       " u'BUL': u'Buffalo Bills (1947-49)',\n",
       " u'BUN': u'Buffalo Bisons (1927, 29)',\n",
       " u'BUR': u'Buffalo Rangers',\n",
       " u'BUS': u'Buffalo Bisons (1924-25)',\n",
       " u'CAN': u'Canton Bulldogs',\n",
       " u'CAR': u'Carolina Panthers',\n",
       " u'CHC': u'Chicago Cardinals',\n",
       " u'CHH': u'Chicago Hornets',\n",
       " u'CHI': u'Chicago Bears',\n",
       " u'CHP': u'Chi Cardinals-Pit Steelers',\n",
       " u'CHR': u'Chicago Rockets',\n",
       " u'CHS': u'Chicago Staleys',\n",
       " u'CHT': u'Chicago Tigers',\n",
       " u'CIC': u'Cincinnati Celts',\n",
       " u'CIN': u'Cincinnati Bengals',\n",
       " u'CIR': u'Cincinnati Reds',\n",
       " u'CLB': u'Cleveland Bulldogs',\n",
       " u'CLD': u'Cleveland Indians',\n",
       " u'CLE': u'Cleveland Browns',\n",
       " u'CLI': u'Cleveland Indians',\n",
       " u'CLR': u'Cleveland Rams',\n",
       " u'CLT': u'Cleveland Tigers',\n",
       " u'COL': u'Columbus Tigers',\n",
       " u'COP': u'Columbus Panhandles',\n",
       " u'DAL': u'Dallas Cowboys',\n",
       " u'DAT': u'Dallas Texans (1960-62)',\n",
       " u'DAX': u'Dallas Texans (1952)',\n",
       " u'DAY': u'Dayton Triangles',\n",
       " u'DEC': u'Decatur Staleys',\n",
       " u'DEN': u'Denver Broncos',\n",
       " u'DET': u'Detroit Lions',\n",
       " u'DTG': u'Detroit Tigers',\n",
       " u'DTH': u'Detroit Heralds',\n",
       " u'DTP': u'Detroit Panthers',\n",
       " u'DTW': u'Detroit Wolverines',\n",
       " u'DUE': u'Duluth Eskimos',\n",
       " u'DUK': u'Duluth Kelleys',\n",
       " u'EVA': u'Evansville Crimson Giants',\n",
       " u'FRA': u'Frankford Yellow Jackets',\n",
       " u'GBY': u'Green Bay Packers',\n",
       " u'HAM': u'Hammond Pros',\n",
       " u'HAR': u'Hartford Blues',\n",
       " u'HOO': u'Houston Oilers',\n",
       " u'HOU': u'Houston Texans',\n",
       " u'IND': u'Indianapolis Colts',\n",
       " u'JAC': u'Jacksonville Jaguars',\n",
       " u'KCC': u'Kansas City Cowboys',\n",
       " u'KCY': u'Kansas City Chiefs',\n",
       " u'KEN': u'Kenosha Maroons',\n",
       " u'LAB': u'Los Angeles Buccaneers',\n",
       " u'LAC': u'Los Angeles Chargers',\n",
       " u'LAD': u'Los Angeles Dons',\n",
       " u'LAI': u'Los Angeles Raiders',\n",
       " u'LAM': u'Los Angeles Rams',\n",
       " u'LOB': u'Louisville Brecks',\n",
       " u'LOC': u'Louisville Colonels',\n",
       " u'MIA': u'Miami Dolphins',\n",
       " u'MIL': u'Milwaukee Badgers',\n",
       " u'MIN': u'Minnesota Vikings',\n",
       " u'MIS': u'Miami Seahawks',\n",
       " 'NE': u'New England Patriots',\n",
       " u'NOR': u'New Orleans Saints',\n",
       " u'NYG': u'New York Giants',\n",
       " u'NYJ': u'New York Jets',\n",
       " u'NYT': u'New York Titans',\n",
       " u'OAK': u'Oakland Raiders',\n",
       " u'PHI': u'Philadelphia Eagles',\n",
       " u'PHX': u'Phoenix Cardinals',\n",
       " u'PIP': u'Pittsburgh Pirates',\n",
       " u'PIT': u'Pittsburgh Steelers',\n",
       " u'POR': u'Portsmouth Spartans',\n",
       " 'SD': u'San Diego Chargers',\n",
       " u'SEA': u'Seattle Seahawks',\n",
       " 'SF': u'San Francisco 49ers',\n",
       " u'SLC': u'St. Louis Cardinals',\n",
       " u'STL': u'St. Louis Rams',\n",
       " 'TB': u'Tampa Bay Buccaneers',\n",
       " u'TEN': u'Tennessee Titans',\n",
       " u'TNO': u'Tennessee Oilers',\n",
       " u'WAS': u'Washington Redskins'}"
      ]
     },
     "execution_count": 44,
     "metadata": {},
     "output_type": "execute_result"
    }
   ],
   "source": [
    "full_name_dict = getfull_Team_Name()\n",
    "#Our dictionaries have some incorrect abbreviations. The code below fixes the mistakes\n",
    "full_name_dict['SF'] = full_name_dict.pop('SFO')\n",
    "full_name_dict['TB'] = full_name_dict.pop('TBY')\n",
    "full_name_dict['SD'] = full_name_dict.pop('SDO')\n",
    "full_name_dict['NE'] = full_name_dict.pop('NWE')\n",
    "full_name_dict['ARI'] = full_name_dict.pop('ARZ')\n",
    "full_name_dict"
   ]
  },
  {
   "cell_type": "markdown",
   "metadata": {},
   "source": [
    "Now we need a list of all of the rookies with their team and year that they played. We will define a function to help us do this; and put the results into a dictionary."
   ]
  },
  {
   "cell_type": "code",
   "execution_count": 45,
   "metadata": {
    "collapsed": false
   },
   "outputs": [],
   "source": [
    "Seasons = range(2014, 1979, -1)\n",
    "#This function will return a list of rookies that started the there first year and the season they played\n",
    "def getMyRookies(_Seasons):\n",
    "    rookie_dict = {}\n",
    "    rookie_QBs = [] \n",
    "    for season in _Seasons: \n",
    "        url = 'http://www.nfl.com/stats/categorystats?archive=false&conference=null&statisticCategory=PASSING&season='+ str(season) + '&seasonType=REG&experience=0&tabSeq=0&qualified=false&Submit=Go'\n",
    "        r = requests.get(url)\n",
    "        #print r\n",
    "       \n",
    "        b = BeautifulSoup(r.text,'html.parser')\n",
    "        rows = b.find_all(name = 'tr') \n",
    "        for row in rows[1:]:\n",
    "            #print row\n",
    "            cols = row.find_all(name = 'td')\n",
    "            #print cols[1]\n",
    "            name = cols[1].text.strip()\n",
    "            \n",
    "            team = cols[2].text.strip()\n",
    "            year_played  = season\n",
    "            #year_and_team = [team, year_played]\n",
    "            #rookie_QBs.append(year_and_team)\n",
    "            #This condition statment ensures that we are extracting data only for players in our data set.  \n",
    "            if name in rookies.Name.tolist():\n",
    "                rookie_dict[name] = {'Team': team, 'Year Played': year_played}\n",
    "        #sleep(1)\n",
    "    return rookie_dict"
   ]
  },
  {
   "cell_type": "code",
   "execution_count": 46,
   "metadata": {
    "collapsed": false,
    "scrolled": true
   },
   "outputs": [
    {
     "name": "stdout",
     "output_type": "stream",
     "text": [
      "Derek Carr\n",
      "Teddy Bridgewater\n",
      "Blake Bortles\n",
      "Zach Mettenberger\n",
      "Geno Smith\n",
      "Mike Glennon\n",
      "EJ Manuel\n",
      "Matt McGloin\n",
      "Andrew Luck\n",
      "Brandon Weeden\n",
      "Ryan Tannehill\n",
      "Robert Griffin III\n",
      "Russell Wilson\n",
      "Nick Foles\n",
      "Ryan Lindley\n",
      "Cam Newton\n",
      "Andy Dalton\n",
      "Blaine Gabbert\n",
      "Christian Ponder\n",
      "T.J. Yates\n",
      "Sam Bradford\n",
      "Colt McCoy\n",
      "Jimmy Clausen\n",
      "Mark Sanchez\n",
      "Matthew Stafford\n",
      "Josh Freeman\n",
      "Matt Ryan\n",
      "Trent Edwards\n",
      "Matt Moore\n",
      "John Beck\n",
      "Matt Leinart\n",
      "Vince Young\n",
      "Bruce Gradkowski\n",
      "Jay Cutler\n",
      "Kyle Orton\n",
      "Charlie Frye\n",
      "Alex Smith\n",
      "Ben Roethlisberger\n",
      "Eli Manning\n",
      "Craig Krenzel\n",
      "Byron Leftwich\n",
      "Kyle Boller\n",
      "David Carr\n",
      "Joey Harrington\n",
      "Chad Hutchinson\n",
      "Patrick Ramsey\n",
      "Chris Weinke\n",
      "Quincy Carter\n",
      "Michael Vick\n",
      "Mike McMahon\n",
      "Tim Couch\n",
      "Cade McNown\n",
      "Donovan McNabb\n",
      "Shaun King\n",
      "Akili Smith\n",
      "Peyton Manning\n",
      "Charlie Batch\n",
      "Ryan Leaf\n",
      "Jake Plummer\n",
      "Tony Banks\n",
      "Kerry Collins\n",
      "Eric Zeier\n",
      "Heath Shuler\n",
      "Rick Mirer\n",
      "Drew Bledsoe\n",
      "Tommy Maddox\n"
     ]
    }
   ],
   "source": [
    "rookie_dict = getMyRookies(Seasons)"
   ]
  },
  {
   "cell_type": "code",
   "execution_count": 47,
   "metadata": {
    "collapsed": false
   },
   "outputs": [
    {
     "data": {
      "text/plain": [
       "{u'Akili Smith': {'Team': u'CIN', 'Year Played': 1999},\n",
       " u'Alex Smith': {'Team': u'SF', 'Year Played': 2005},\n",
       " u'Andrew Luck': {'Team': u'IND', 'Year Played': 2012},\n",
       " u'Andy Dalton': {'Team': u'CIN', 'Year Played': 2011},\n",
       " u'Ben Roethlisberger': {'Team': u'PIT', 'Year Played': 2004},\n",
       " u'Blaine Gabbert': {'Team': u'JAC', 'Year Played': 2011},\n",
       " u'Blake Bortles': {'Team': u'JAC', 'Year Played': 2014},\n",
       " u'Brandon Weeden': {'Team': u'CLE', 'Year Played': 2012},\n",
       " u'Bruce Gradkowski': {'Team': u'TB', 'Year Played': 2006},\n",
       " u'Byron Leftwich': {'Team': u'JAC', 'Year Played': 2003},\n",
       " u'Cade McNown': {'Team': u'CHI', 'Year Played': 1999},\n",
       " u'Cam Newton': {'Team': u'CAR', 'Year Played': 2011},\n",
       " u'Chad Hutchinson': {'Team': u'DAL', 'Year Played': 2002},\n",
       " u'Charlie Batch': {'Team': u'DET', 'Year Played': 1998},\n",
       " u'Charlie Frye': {'Team': u'CLE', 'Year Played': 2005},\n",
       " u'Chris Weinke': {'Team': u'CAR', 'Year Played': 2001},\n",
       " u'Christian Ponder': {'Team': u'MIN', 'Year Played': 2011},\n",
       " u'Colt McCoy': {'Team': u'CLE', 'Year Played': 2010},\n",
       " u'Craig Krenzel': {'Team': u'CHI', 'Year Played': 2004},\n",
       " u'David Carr': {'Team': u'HOU', 'Year Played': 2002},\n",
       " u'Derek Carr': {'Team': u'OAK', 'Year Played': 2014},\n",
       " u'Donovan McNabb': {'Team': u'PHI', 'Year Played': 1999},\n",
       " u'Drew Bledsoe': {'Team': u'NE', 'Year Played': 1993},\n",
       " u'EJ Manuel': {'Team': u'BUF', 'Year Played': 2013},\n",
       " u'Eli Manning': {'Team': u'NYG', 'Year Played': 2004},\n",
       " u'Eric Zeier': {'Team': u'CLE', 'Year Played': 1995},\n",
       " u'Geno Smith': {'Team': u'NYJ', 'Year Played': 2013},\n",
       " u'Heath Shuler': {'Team': u'WAS', 'Year Played': 1994},\n",
       " u'Jake Plummer': {'Team': u'ARI', 'Year Played': 1997},\n",
       " u'Jay Cutler': {'Team': u'DEN', 'Year Played': 2006},\n",
       " u'Jimmy Clausen': {'Team': u'CAR', 'Year Played': 2010},\n",
       " u'Joey Harrington': {'Team': u'DET', 'Year Played': 2002},\n",
       " u'John Beck': {'Team': u'MIA', 'Year Played': 2007},\n",
       " u'Josh Freeman': {'Team': u'TB', 'Year Played': 2009},\n",
       " u'Kerry Collins': {'Team': u'CAR', 'Year Played': 1995},\n",
       " u'Kyle Boller': {'Team': u'BAL', 'Year Played': 2003},\n",
       " u'Kyle Orton': {'Team': u'CHI', 'Year Played': 2005},\n",
       " u'Mark Sanchez': {'Team': u'NYJ', 'Year Played': 2009},\n",
       " u'Matt Leinart': {'Team': u'ARI', 'Year Played': 2006},\n",
       " u'Matt McGloin': {'Team': u'OAK', 'Year Played': 2013},\n",
       " u'Matt Moore': {'Team': u'CAR', 'Year Played': 2007},\n",
       " u'Matt Ryan': {'Team': u'ATL', 'Year Played': 2008},\n",
       " u'Matthew Stafford': {'Team': u'DET', 'Year Played': 2009},\n",
       " u'Michael Vick': {'Team': u'ATL', 'Year Played': 2001},\n",
       " u'Mike Glennon': {'Team': u'TB', 'Year Played': 2013},\n",
       " u'Mike McMahon': {'Team': u'DET', 'Year Played': 2001},\n",
       " u'Nick Foles': {'Team': u'PHI', 'Year Played': 2012},\n",
       " u'Patrick Ramsey': {'Team': u'WAS', 'Year Played': 2002},\n",
       " u'Peyton Manning': {'Team': u'IND', 'Year Played': 1998},\n",
       " u'Quincy Carter': {'Team': u'DAL', 'Year Played': 2001},\n",
       " u'Rick Mirer': {'Team': u'SEA', 'Year Played': 1993},\n",
       " u'Robert Griffin III': {'Team': u'WAS', 'Year Played': 2012},\n",
       " u'Russell Wilson': {'Team': u'SEA', 'Year Played': 2012},\n",
       " u'Ryan Leaf': {'Team': u'SD', 'Year Played': 1998},\n",
       " u'Ryan Lindley': {'Team': u'ARI', 'Year Played': 2012},\n",
       " u'Ryan Tannehill': {'Team': u'MIA', 'Year Played': 2012},\n",
       " u'Sam Bradford': {'Team': u'STL', 'Year Played': 2010},\n",
       " u'Shaun King': {'Team': u'TB', 'Year Played': 1999},\n",
       " u'T.J. Yates': {'Team': u'HOU', 'Year Played': 2011},\n",
       " u'Teddy Bridgewater': {'Team': u'MIN', 'Year Played': 2014},\n",
       " u'Tim Couch': {'Team': u'CLE', 'Year Played': 1999},\n",
       " u'Tommy Maddox': {'Team': u'DEN', 'Year Played': 1992},\n",
       " u'Tony Banks': {'Team': u'STL', 'Year Played': 1996},\n",
       " u'Trent Edwards': {'Team': u'BUF', 'Year Played': 2007},\n",
       " u'Vince Young': {'Team': u'TEN', 'Year Played': 2006},\n",
       " u'Zach Mettenberger': {'Team': u'TEN', 'Year Played': 2014}}"
      ]
     },
     "execution_count": 47,
     "metadata": {},
     "output_type": "execute_result"
    }
   ],
   "source": [
    "rookie_dict"
   ]
  },
  {
   "cell_type": "markdown",
   "metadata": {},
   "source": [
    "Now utilizing the two dictionaries we will gather our response"
   ]
  },
  {
   "cell_type": "code",
   "execution_count": 48,
   "metadata": {
    "collapsed": false
   },
   "outputs": [],
   "source": [
    "def W_L_Record(list_of_names):\n",
    "    win_loss_list = []\n",
    "    for name in list_of_names:\n",
    "        abrv_team_name = rookie_dict[name]['Team']\n",
    "        year_played  = rookie_dict[name]['Year Played']\n",
    "        full_team_name = full_name_dict[abrv_team_name]\n",
    "        full_team_name = full_team_name.lower().replace(\" \",\"-\").replace('.','') #This converts e.g. Baltimore Ravens => baltimore-ravens. we do this because of the format of  the url\n",
    "        url = 'http://www.footballdb.com/teams/nfl/' + full_team_name + '/history'\n",
    "        r = requests.get(url)\n",
    "        \n",
    "        \n",
    "        bs = BeautifulSoup(r.text, 'html.parser')\n",
    "        rows = bs.find(name = 'tbody').find_all(name = 'tr')\n",
    "        for row in rows: \n",
    "            cols = row.find_all(name = 'td')\n",
    "            if int(cols[0].text) == year_played: \n",
    "                wins = int(cols[3].text)\n",
    "                losses = int(cols[4].text)\n",
    "                win_loss = str(wins) + '-' + str(losses)\n",
    "                win_loss_list.append([wins, losses,win_loss])\n",
    "    return win_loss_list\n",
    "        "
   ]
  },
  {
   "cell_type": "code",
   "execution_count": 49,
   "metadata": {
    "collapsed": false
   },
   "outputs": [
    {
     "data": {
      "text/plain": [
       "[[4, 12, '4-12'],\n",
       " [4, 12, '4-12'],\n",
       " [11, 5, '11-5'],\n",
       " [9, 7, '9-7'],\n",
       " [5, 11, '5-11'],\n",
       " [3, 13, '3-13'],\n",
       " [5, 11, '5-11'],\n",
       " [4, 12, '4-12'],\n",
       " [6, 10, '6-10'],\n",
       " [6, 10, '6-10'],\n",
       " [5, 11, '5-11'],\n",
       " [6, 10, '6-10'],\n",
       " [1, 15, '1-15'],\n",
       " [3, 13, '3-13'],\n",
       " [5, 11, '5-11'],\n",
       " [3, 13, '3-13'],\n",
       " [5, 11, '5-11'],\n",
       " [5, 11, '5-11'],\n",
       " [6, 10, '6-10'],\n",
       " [5, 11, '5-11'],\n",
       " [8, 8, '8-8'],\n",
       " [3, 13, '3-13'],\n",
       " [4, 12, '4-12'],\n",
       " [9, 7, '9-7'],\n",
       " [2, 14, '2-14'],\n",
       " [1, 15, '1-15'],\n",
       " [3, 13, '3-13'],\n",
       " [7, 9, '7-9'],\n",
       " [11, 5, '11-5'],\n",
       " [9, 7, '9-7'],\n",
       " [5, 11, '5-11'],\n",
       " [4, 12, '4-12'],\n",
       " [7, 9, '7-9'],\n",
       " [11, 5, '11-5'],\n",
       " [2, 14, '2-14'],\n",
       " [7, 9, '7-9'],\n",
       " [4, 12, '4-12'],\n",
       " [2, 14, '2-14'],\n",
       " [4, 12, '4-12'],\n",
       " [3, 13, '3-13'],\n",
       " [5, 11, '5-11'],\n",
       " [6, 10, '6-10'],\n",
       " [10, 6, '10-6'],\n",
       " [11, 5, '11-5'],\n",
       " [5, 11, '5-11'],\n",
       " [5, 11, '5-11'],\n",
       " [7, 9, '7-9'],\n",
       " [7, 9, '7-9'],\n",
       " [11, 5, '11-5'],\n",
       " [10, 6, '10-6'],\n",
       " [7, 9, '7-9'],\n",
       " [2, 14, '2-14'],\n",
       " [8, 8, '8-8'],\n",
       " [6, 10, '6-10'],\n",
       " [7, 9, '7-9'],\n",
       " [8, 8, '8-8'],\n",
       " [2, 14, '2-14'],\n",
       " [15, 1, '15-1'],\n",
       " [5, 11, '5-11'],\n",
       " [5, 11, '5-11'],\n",
       " [5, 11, '5-11'],\n",
       " [4, 12, '4-12'],\n",
       " [6, 10, '6-10'],\n",
       " [3, 13, '3-13'],\n",
       " [10, 6, '10-6'],\n",
       " [7, 9, '7-9']]"
      ]
     },
     "execution_count": 49,
     "metadata": {},
     "output_type": "execute_result"
    }
   ],
   "source": [
    "W_L_Record = W_L_Record(rookies.Name.tolist())\n",
    "W_L_Record"
   ]
  },
  {
   "cell_type": "markdown",
   "metadata": {},
   "source": [
    "Now that we have the win loss record in a array we can access the wins element and concatenate that with our original dataframe "
   ]
  },
  {
   "cell_type": "code",
   "execution_count": 50,
   "metadata": {
    "collapsed": false
   },
   "outputs": [],
   "source": [
    "rookies['Wins'] = [record[0] for record in W_L_Record]"
   ]
  },
  {
   "cell_type": "code",
   "execution_count": 51,
   "metadata": {
    "collapsed": false
   },
   "outputs": [
    {
     "data": {
      "text/html": [
       "<div>\n",
       "<table border=\"1\" class=\"dataframe\">\n",
       "  <thead>\n",
       "    <tr style=\"text-align: right;\">\n",
       "      <th></th>\n",
       "      <th>Name</th>\n",
       "      <th>CMP</th>\n",
       "      <th>Attps</th>\n",
       "      <th>PCT</th>\n",
       "      <th>Yds</th>\n",
       "      <th>Y/A</th>\n",
       "      <th>AY/A</th>\n",
       "      <th>TDs</th>\n",
       "      <th>Int</th>\n",
       "      <th>Rate</th>\n",
       "      <th>Wins</th>\n",
       "    </tr>\n",
       "  </thead>\n",
       "  <tbody>\n",
       "    <tr>\n",
       "      <th>0</th>\n",
       "      <td>Akili Smith</td>\n",
       "      <td>323</td>\n",
       "      <td>571</td>\n",
       "      <td>56.6</td>\n",
       "      <td>5148</td>\n",
       "      <td>9.0</td>\n",
       "      <td>9.4</td>\n",
       "      <td>45</td>\n",
       "      <td>15</td>\n",
       "      <td>153.1</td>\n",
       "      <td>4</td>\n",
       "    </tr>\n",
       "    <tr>\n",
       "      <th>1</th>\n",
       "      <td>Alex Smith</td>\n",
       "      <td>389</td>\n",
       "      <td>587</td>\n",
       "      <td>66.3</td>\n",
       "      <td>5203</td>\n",
       "      <td>8.9</td>\n",
       "      <td>9.9</td>\n",
       "      <td>47</td>\n",
       "      <td>8</td>\n",
       "      <td>164.4</td>\n",
       "      <td>4</td>\n",
       "    </tr>\n",
       "    <tr>\n",
       "      <th>2</th>\n",
       "      <td>Andrew Luck</td>\n",
       "      <td>713</td>\n",
       "      <td>1064</td>\n",
       "      <td>67.0</td>\n",
       "      <td>9430</td>\n",
       "      <td>8.9</td>\n",
       "      <td>9.5</td>\n",
       "      <td>82</td>\n",
       "      <td>22</td>\n",
       "      <td>162.8</td>\n",
       "      <td>11</td>\n",
       "    </tr>\n",
       "    <tr>\n",
       "      <th>3</th>\n",
       "      <td>Andy Dalton</td>\n",
       "      <td>812</td>\n",
       "      <td>1317</td>\n",
       "      <td>61.7</td>\n",
       "      <td>10314</td>\n",
       "      <td>7.8</td>\n",
       "      <td>7.9</td>\n",
       "      <td>71</td>\n",
       "      <td>30</td>\n",
       "      <td>140.7</td>\n",
       "      <td>9</td>\n",
       "    </tr>\n",
       "    <tr>\n",
       "      <th>4</th>\n",
       "      <td>Blaine Gabbert</td>\n",
       "      <td>568</td>\n",
       "      <td>933</td>\n",
       "      <td>60.9</td>\n",
       "      <td>6822</td>\n",
       "      <td>7.3</td>\n",
       "      <td>7.3</td>\n",
       "      <td>40</td>\n",
       "      <td>18</td>\n",
       "      <td>132.6</td>\n",
       "      <td>5</td>\n",
       "    </tr>\n",
       "  </tbody>\n",
       "</table>\n",
       "</div>"
      ],
      "text/plain": [
       "             Name  CMP  Attps   PCT    Yds  Y/A  AY/A  TDs  Int   Rate  Wins\n",
       "0     Akili Smith  323    571  56.6   5148  9.0   9.4   45   15  153.1     4\n",
       "1      Alex Smith  389    587  66.3   5203  8.9   9.9   47    8  164.4     4\n",
       "2     Andrew Luck  713   1064  67.0   9430  8.9   9.5   82   22  162.8    11\n",
       "3     Andy Dalton  812   1317  61.7  10314  7.8   7.9   71   30  140.7     9\n",
       "4  Blaine Gabbert  568    933  60.9   6822  7.3   7.3   40   18  132.6     5"
      ]
     },
     "execution_count": 51,
     "metadata": {},
     "output_type": "execute_result"
    }
   ],
   "source": [
    "rookies.head()"
   ]
  },
  {
   "cell_type": "markdown",
   "metadata": {},
   "source": [
    "My project question is a classification problem so we want our response to have two outcomes.\n",
    "\n",
    "**0:** The player has less than 7 wins\n",
    "\n",
    "**1:** The player has greater or equal to 7 wins\n",
    "\n",
    "Lets transform our win column into a binary classification problem"
   ]
  },
  {
   "cell_type": "code",
   "execution_count": 52,
   "metadata": {
    "collapsed": true
   },
   "outputs": [],
   "source": [
    "rookies['Greater than 7 wins'] = rookies.Wins.map(lambda x: 1 if x >= 7 else 0)"
   ]
  },
  {
   "cell_type": "code",
   "execution_count": 53,
   "metadata": {
    "collapsed": false
   },
   "outputs": [
    {
     "data": {
      "text/html": [
       "<div>\n",
       "<table border=\"1\" class=\"dataframe\">\n",
       "  <thead>\n",
       "    <tr style=\"text-align: right;\">\n",
       "      <th></th>\n",
       "      <th>Name</th>\n",
       "      <th>CMP</th>\n",
       "      <th>Attps</th>\n",
       "      <th>PCT</th>\n",
       "      <th>Yds</th>\n",
       "      <th>Y/A</th>\n",
       "      <th>AY/A</th>\n",
       "      <th>TDs</th>\n",
       "      <th>Int</th>\n",
       "      <th>Rate</th>\n",
       "      <th>Wins</th>\n",
       "      <th>Greater than 7 wins</th>\n",
       "    </tr>\n",
       "  </thead>\n",
       "  <tbody>\n",
       "    <tr>\n",
       "      <th>0</th>\n",
       "      <td>Akili Smith</td>\n",
       "      <td>323</td>\n",
       "      <td>571</td>\n",
       "      <td>56.6</td>\n",
       "      <td>5148</td>\n",
       "      <td>9.0</td>\n",
       "      <td>9.4</td>\n",
       "      <td>45</td>\n",
       "      <td>15</td>\n",
       "      <td>153.1</td>\n",
       "      <td>4</td>\n",
       "      <td>0</td>\n",
       "    </tr>\n",
       "    <tr>\n",
       "      <th>1</th>\n",
       "      <td>Alex Smith</td>\n",
       "      <td>389</td>\n",
       "      <td>587</td>\n",
       "      <td>66.3</td>\n",
       "      <td>5203</td>\n",
       "      <td>8.9</td>\n",
       "      <td>9.9</td>\n",
       "      <td>47</td>\n",
       "      <td>8</td>\n",
       "      <td>164.4</td>\n",
       "      <td>4</td>\n",
       "      <td>0</td>\n",
       "    </tr>\n",
       "    <tr>\n",
       "      <th>2</th>\n",
       "      <td>Andrew Luck</td>\n",
       "      <td>713</td>\n",
       "      <td>1064</td>\n",
       "      <td>67.0</td>\n",
       "      <td>9430</td>\n",
       "      <td>8.9</td>\n",
       "      <td>9.5</td>\n",
       "      <td>82</td>\n",
       "      <td>22</td>\n",
       "      <td>162.8</td>\n",
       "      <td>11</td>\n",
       "      <td>1</td>\n",
       "    </tr>\n",
       "    <tr>\n",
       "      <th>3</th>\n",
       "      <td>Andy Dalton</td>\n",
       "      <td>812</td>\n",
       "      <td>1317</td>\n",
       "      <td>61.7</td>\n",
       "      <td>10314</td>\n",
       "      <td>7.8</td>\n",
       "      <td>7.9</td>\n",
       "      <td>71</td>\n",
       "      <td>30</td>\n",
       "      <td>140.7</td>\n",
       "      <td>9</td>\n",
       "      <td>1</td>\n",
       "    </tr>\n",
       "    <tr>\n",
       "      <th>4</th>\n",
       "      <td>Blaine Gabbert</td>\n",
       "      <td>568</td>\n",
       "      <td>933</td>\n",
       "      <td>60.9</td>\n",
       "      <td>6822</td>\n",
       "      <td>7.3</td>\n",
       "      <td>7.3</td>\n",
       "      <td>40</td>\n",
       "      <td>18</td>\n",
       "      <td>132.6</td>\n",
       "      <td>5</td>\n",
       "      <td>0</td>\n",
       "    </tr>\n",
       "  </tbody>\n",
       "</table>\n",
       "</div>"
      ],
      "text/plain": [
       "             Name  CMP  Attps   PCT    Yds  Y/A  AY/A  TDs  Int   Rate  Wins  \\\n",
       "0     Akili Smith  323    571  56.6   5148  9.0   9.4   45   15  153.1     4   \n",
       "1      Alex Smith  389    587  66.3   5203  8.9   9.9   47    8  164.4     4   \n",
       "2     Andrew Luck  713   1064  67.0   9430  8.9   9.5   82   22  162.8    11   \n",
       "3     Andy Dalton  812   1317  61.7  10314  7.8   7.9   71   30  140.7     9   \n",
       "4  Blaine Gabbert  568    933  60.9   6822  7.3   7.3   40   18  132.6     5   \n",
       "\n",
       "   Greater than 7 wins  \n",
       "0                    0  \n",
       "1                    0  \n",
       "2                    1  \n",
       "3                    1  \n",
       "4                    0  "
      ]
     },
     "execution_count": 53,
     "metadata": {},
     "output_type": "execute_result"
    }
   ],
   "source": [
    "rookies.head()"
   ]
  },
  {
   "cell_type": "markdown",
   "metadata": {},
   "source": [
    "Finally we can get to explore our dataset now that it is compiled "
   ]
  },
  {
   "cell_type": "code",
   "execution_count": 54,
   "metadata": {
    "collapsed": false
   },
   "outputs": [
    {
     "data": {
      "text/plain": [
       "<matplotlib.axes._subplots.AxesSubplot at 0x109e781d0>"
      ]
     },
     "execution_count": 54,
     "metadata": {},
     "output_type": "execute_result"
    },
    {
     "data": {
      "image/png": "[encoded data removed]",
      "text/plain": [
       "<matplotlib.figure.Figure at 0x10db66b10>"
      ]
     },
     "metadata": {},
     "output_type": "display_data"
    },
    {
     "data": {
      "image/png": "[encoded data removed]",
      "text/plain": [
       "<matplotlib.figure.Figure at 0x10db66b90>"
      ]
     },
     "metadata": {},
     "output_type": "display_data"
    },
    {
     "data": {
      "image/png": "[encoded data removed]",
      "text/plain": [
       "<matplotlib.figure.Figure at 0x10bd2fc10>"
      ]
     },
     "metadata": {},
     "output_type": "display_data"
    },
    {
     "data": {
      "image/png": "[encoded data removed]",
      "text/plain": [
       "<matplotlib.figure.Figure at 0x10db85f90>"
      ]
     },
     "metadata": {},
     "output_type": "display_data"
    },
    {
     "data": {
      "image/png": "[encoded data removed]",
      "text/plain": [
       "<matplotlib.figure.Figure at 0x10bc73d50>"
      ]
     },
     "metadata": {},
     "output_type": "display_data"
    }
   ],
   "source": [
    "%matplotlib inline\n",
    "rookies.plot(kind = 'scatter', x = 'PCT', y = 'Wins') \n",
    "rookies.plot(kind = 'scatter', x = 'Y/A', y = 'Wins') \n",
    "rookies.plot(kind = 'scatter', x = 'Yds', y = 'Wins') \n",
    "rookies.plot(kind = 'scatter', x = 'TDs', y = 'Wins')\n",
    "rookies.plot(kind = 'scatter', x = 'Int', y = 'Wins')\n",
    "\n",
    "#From these graphs we see no apparent linear trend"
   ]
  },
  {
   "cell_type": "markdown",
   "metadata": {},
   "source": [
    "In these visualizations we see no aparent linear trend. Lets move on to modeling and see if we can get to the center of this."
   ]
  },
  {
   "cell_type": "markdown",
   "metadata": {},
   "source": [
    "**Model Evaluation**"
   ]
  },
  {
   "cell_type": "code",
   "execution_count": 55,
   "metadata": {
    "collapsed": false
   },
   "outputs": [
    {
     "data": {
      "text/plain": [
       "Index([u'Name', u'CMP', u'Attps', u'PCT', u'Yds', u'Y/A', u'AY/A', u'TDs',\n",
       "       u'Int', u'Rate', u'Wins', u'Greater than 7 wins'],\n",
       "      dtype='object')"
      ]
     },
     "execution_count": 55,
     "metadata": {},
     "output_type": "execute_result"
    }
   ],
   "source": [
    "rookies.columns"
   ]
  },
  {
   "cell_type": "code",
   "execution_count": 56,
   "metadata": {
    "collapsed": false
   },
   "outputs": [],
   "source": [
    "feature_cols = ['CMP', 'Attps', 'PCT', 'Yds', 'Y/A', 'AY/A', 'TDs','Int', 'Rate']\n",
    "X = rookies[feature_cols]\n",
    "y = rookies['Greater than 7 wins']"
   ]
  },
  {
   "cell_type": "code",
   "execution_count": 57,
   "metadata": {
    "collapsed": false
   },
   "outputs": [
    {
     "name": "stdout",
     "output_type": "stream",
     "text": [
      "(49, 9)\n",
      "(17, 9)\n"
     ]
    }
   ],
   "source": [
    "from sklearn.cross_validation import train_test_split\n",
    "X_train, X_test, y_train, y_test = train_test_split(X, y, random_state=1)\n",
    "print X_train.shape\n",
    "print X_test.shape"
   ]
  },
  {
   "cell_type": "code",
   "execution_count": 58,
   "metadata": {
    "collapsed": false
   },
   "outputs": [],
   "source": [
    "from sklearn.linear_model import LogisticRegression\n",
    "logreg = LogisticRegression(C=1e9)\n",
    "logreg.fit(X_train, y_train)\n",
    "y_pred_class = logreg.predict(X_test)\n",
    "y_pred_proba = logreg.predict_proba(X_test)"
   ]
  },
  {
   "cell_type": "code",
   "execution_count": 59,
   "metadata": {
    "collapsed": false
   },
   "outputs": [
    {
     "data": {
      "text/plain": [
       "[('CMP', 0.02475857208430661),\n",
       " ('Attps', 0.0067883549051313708),\n",
       " ('PCT', -0.2943533056312172),\n",
       " ('Yds', -0.0021561509611048089),\n",
       " ('Y/A', 0.054772183386742182),\n",
       " ('AY/A', 0.041454441325262992),\n",
       " ('TDs', -0.088282797749334965),\n",
       " ('Int', -0.0055756555157293365),\n",
       " ('Rate', 0.11400924295055517)]"
      ]
     },
     "execution_count": 59,
     "metadata": {},
     "output_type": "execute_result"
    }
   ],
   "source": [
    "zip(feature_cols, logreg.coef_[0])"
   ]
  },
  {
   "cell_type": "markdown",
   "metadata": {},
   "source": [
    "A glance at our coeffecients doesn't make intuitive sense. For example a unit increase in TDs has a -0.08 log odds decrease in having wins greater or equal to 7. We should expect that coeffecient to be positive, as increasing our odds of having a \"successfull season\" "
   ]
  },
  {
   "cell_type": "code",
   "execution_count": 60,
   "metadata": {
    "collapsed": false
   },
   "outputs": [
    {
     "name": "stdout",
     "output_type": "stream",
     "text": [
      "0.352941176471\n"
     ]
    }
   ],
   "source": [
    "from sklearn import metrics\n",
    "print metrics.accuracy_score(y_test, y_pred_class)"
   ]
  },
  {
   "cell_type": "code",
   "execution_count": 61,
   "metadata": {
    "collapsed": false
   },
   "outputs": [
    {
     "name": "stdout",
     "output_type": "stream",
     "text": [
      "[1 1 1 1 0 1 0 0 0 0 1 0 1 1 1 0 1]\n",
      "[0 0 0 0 1 0 0 1 0 0 0 0 0 1 0 0 0]\n",
      "0.588235294118\n"
     ]
    }
   ],
   "source": [
    "print y_test\n",
    "print y_pred_class\n",
    "null_accurracy = sum(y_test)/float(len(y_test))\n",
    "print null_accurracy"
   ]
  },
  {
   "cell_type": "markdown",
   "metadata": {},
   "source": [
    "Our model did worst then the null model. Meaning we need to select better features or select a different model. "
   ]
  },
  {
   "cell_type": "markdown",
   "metadata": {},
   "source": [
    "Lets add a few addtional features: college years played, NFL team previous years record, rushing stats"
   ]
  },
  {
   "cell_type": "code",
   "execution_count": 62,
   "metadata": {
    "collapsed": false
   },
   "outputs": [],
   "source": [
    "#This function retrieves the rookie player's team wins from the previous year\n",
    "\n",
    "def previous_Team_Wins(players):\n",
    "    win_loss_list = [] \n",
    "    for player in players:\n",
    "        abrv_team_name = rookie_dict[player]['Team']\n",
    "        year_played = rookie_dict[player]['Year Played']\n",
    "        \n",
    "        #Translates the abreviated team name to the full team name. e.g. MIA to miami dolphins \n",
    "        full_team_name = full_name_dict[abrv_team_name]\n",
    "        full_team_name = full_team_name.lower().replace(\" \",\"-\").replace('.','') #This converts e.g. Baltimore Ravens => baltimore-ravens. we do this because of the format of  the url\n",
    "\n",
    "\n",
    "        url = \"http://www.footballdb.com/teams/nfl/\" + full_team_name + \"/history\"\n",
    "        r = requests.get(url) \n",
    "        bs = BeautifulSoup(r.text, 'html.parser')\n",
    "        rows = bs.find(name = 'tbody').find_all(name = 'tr')\n",
    "        for row in rows: \n",
    "            cols = row.find_all(name = 'td')\n",
    "            if int(cols[0].text)  == year_played - 1 : #We subtract one from the year the played to get the record of the team for the previous year. \n",
    "                wins = int(cols[3].text)\n",
    "                losses = int(cols[4].text)\n",
    "                win_loss = str(wins) + '-' + str(losses)\n",
    "                win_loss_list.append([wins, losses,win_loss, player])\n",
    "    return win_loss_list\n",
    "        \n",
    "        \n",
    "    \n",
    "    "
   ]
  },
  {
   "cell_type": "code",
   "execution_count": 63,
   "metadata": {
    "collapsed": false
   },
   "outputs": [
    {
     "data": {
      "text/plain": [
       "[[3, 13, '3-13', 'Akili Smith'],\n",
       " [2, 14, '2-14', 'Alex Smith'],\n",
       " [2, 14, '2-14', 'Andrew Luck'],\n",
       " [4, 12, '4-12', 'Andy Dalton'],\n",
       " [8, 8, '8-8', 'Blaine Gabbert'],\n",
       " [4, 12, '4-12', 'Blake Bortles'],\n",
       " [4, 12, '4-12', 'Brandon Weeden'],\n",
       " [11, 5, '11-5', 'Bruce Gradkowski'],\n",
       " [4, 12, '4-12', 'Cade McNown'],\n",
       " [2, 14, '2-14', 'Cam Newton'],\n",
       " [9, 7, '9-7', 'Charlie Batch'],\n",
       " [4, 12, '4-12', 'Charlie Frye'],\n",
       " [7, 9, '7-9', 'Chris Weinke'],\n",
       " [6, 10, '6-10', 'Christian Ponder'],\n",
       " [5, 11, '5-11', 'Colt McCoy'],\n",
       " [4, 12, '4-12', 'Derek Carr'],\n",
       " [3, 13, '3-13', 'Donovan McNabb'],\n",
       " [2, 14, '2-14', 'Drew Bledsoe'],\n",
       " [6, 10, '6-10', 'EJ Manuel'],\n",
       " [11, 5, '11-5', 'Eric Zeier'],\n",
       " [6, 10, '6-10', 'Geno Smith'],\n",
       " [4, 12, '4-12', 'Heath Shuler'],\n",
       " [7, 9, '7-9', 'Jake Plummer'],\n",
       " [13, 3, '13-3', 'Jay Cutler'],\n",
       " [8, 8, '8-8', 'Jimmy Clausen'],\n",
       " [6, 10, '6-10', 'John Beck'],\n",
       " [9, 7, '9-7', 'Josh Freeman'],\n",
       " [5, 11, '5-11', 'Kyle Orton'],\n",
       " [9, 7, '9-7', 'Mark Sanchez'],\n",
       " [5, 11, '5-11', 'Matt Leinart'],\n",
       " [4, 12, '4-12', 'Matt McGloin'],\n",
       " [8, 8, '8-8', 'Matt Moore'],\n",
       " [4, 12, '4-12', 'Matt Ryan'],\n",
       " [0, 16, '0-16', 'Matthew Stafford'],\n",
       " [4, 12, '4-12', 'Michael Vick'],\n",
       " [7, 9, '7-9', 'Mike Glennon'],\n",
       " [9, 7, '9-7', 'Mike McMahon'],\n",
       " [8, 8, '8-8', 'Nick Foles'],\n",
       " [3, 13, '3-13', 'Peyton Manning'],\n",
       " [5, 11, '5-11', 'Quincy Carter'],\n",
       " [2, 14, '2-14', 'Rick Mirer'],\n",
       " [5, 11, '5-11', 'Robert Griffin III'],\n",
       " [7, 9, '7-9', 'Russell Wilson'],\n",
       " [4, 12, '4-12', 'Ryan Leaf'],\n",
       " [8, 8, '8-8', 'Ryan Lindley'],\n",
       " [6, 10, '6-10', 'Ryan Tannehill'],\n",
       " [1, 15, '1-15', 'Sam Bradford'],\n",
       " [8, 8, '8-8', 'Shaun King'],\n",
       " [6, 10, '6-10', 'T.J. Yates'],\n",
       " [5, 10, '5-10', 'Teddy Bridgewater'],\n",
       " [12, 4, '12-4', 'Tommy Maddox'],\n",
       " [7, 9, '7-9', 'Tony Banks'],\n",
       " [7, 9, '7-9', 'Trent Edwards'],\n",
       " [4, 12, '4-12', 'Vince Young'],\n",
       " [7, 9, '7-9', 'Zach Mettenberger'],\n",
       " [6, 10, '6-10', 'Ben Roethlisberger'],\n",
       " [6, 10, '6-10', 'Byron Leftwich'],\n",
       " [5, 11, '5-11', 'Chad Hutchinson'],\n",
       " [7, 9, '7-9', 'Craig Krenzel'],\n",
       " [4, 12, '4-12', 'Eli Manning'],\n",
       " [2, 14, '2-14', 'Joey Harrington'],\n",
       " [7, 9, '7-9', 'Kyle Boller'],\n",
       " [8, 8, '8-8', 'Patrick Ramsey']]"
      ]
     },
     "execution_count": 63,
     "metadata": {},
     "output_type": "execute_result"
    }
   ],
   "source": [
    "prev_year = previous_Team_Wins(rookies.Name.tolist())\n",
    "prev_year # prev_year holds teams previous win loss record"
   ]
  },
  {
   "cell_type": "markdown",
   "metadata": {},
   "source": [
    "Some teams didnt have number of wins from the previous seasons because they were expansion teams. Meaning they were \n",
    "not in existense the year pior to to the rookie arriving"
   ]
  },
  {
   "cell_type": "code",
   "execution_count": 64,
   "metadata": {
    "collapsed": false
   },
   "outputs": [
    {
     "name": "stdout",
     "output_type": "stream",
     "text": [
      "Kerry Collins\n",
      "Tim Couch\n",
      "David Carr\n"
     ]
    }
   ],
   "source": [
    "#This loop finds the players who were rookie Qbs for expansion teams or the algorith could not webscrape \n",
    "#the Team's record from the year prior\n",
    "\n",
    "missing_name_list = [lst[3] for lst in prev_year]\n",
    "for name in rookies.Name.tolist():    \n",
    "    if name not in missing_name_list:\n",
    "        print name"
   ]
  },
  {
   "cell_type": "code",
   "execution_count": 65,
   "metadata": {
    "collapsed": false
   },
   "outputs": [
    {
     "name": "stdout",
     "output_type": "stream",
     "text": [
      "Int64Index([27], dtype='int64')\n",
      "Int64Index([61], dtype='int64')\n",
      "Int64Index([51], dtype='int64')\n"
     ]
    }
   ],
   "source": [
    "print rookies[rookies.Name == 'Kerry Collins'].index\n",
    "print rookies[rookies.Name == 'David Carr'].index\n",
    "print rookies[rookies.Name == 'Tim Couch'].index\n",
    "#We fill in NA where number of wins were not returned.\n",
    "prev_year.insert(27, ['NA','NA','NA','Kerry Collins'])\n",
    "prev_year.insert(51, ['NA','NA','NA','David Carr'])\n",
    "prev_year.insert(61, [9, 6,'9-6','Tim Couch'])"
   ]
  },
  {
   "cell_type": "code",
   "execution_count": 66,
   "metadata": {
    "collapsed": false
   },
   "outputs": [],
   "source": [
    "rookies['Previous Wins'] = [record[0] for record in prev_year]"
   ]
  },
  {
   "cell_type": "markdown",
   "metadata": {},
   "source": [
    "Lets rearrange the Dataframe such that we have our features on the left and the response on the right. "
   ]
  },
  {
   "cell_type": "code",
   "execution_count": 67,
   "metadata": {
    "collapsed": false
   },
   "outputs": [],
   "source": [
    "rookies.columns.tolist()\n",
    "cols = ['Name','CMP','Attps','PCT','Yds','Y/A','AY/A','TDs','Int','Rate','Previous Wins','Wins','Greater than 7 wins']\n",
    "rookies = rookies[cols]"
   ]
  },
  {
   "cell_type": "markdown",
   "metadata": {},
   "source": [
    "<h4>Futher data exploration</h4>"
   ]
  },
  {
   "cell_type": "code",
   "execution_count": 68,
   "metadata": {
    "collapsed": false
   },
   "outputs": [
    {
     "data": {
      "text/html": [
       "<div>\n",
       "<table border=\"1\" class=\"dataframe\">\n",
       "  <thead>\n",
       "    <tr style=\"text-align: right;\">\n",
       "      <th></th>\n",
       "      <th></th>\n",
       "      <th>AY/A</th>\n",
       "      <th>Attps</th>\n",
       "      <th>CMP</th>\n",
       "      <th>Int</th>\n",
       "      <th>PCT</th>\n",
       "      <th>Previous Wins</th>\n",
       "      <th>Rate</th>\n",
       "      <th>TDs</th>\n",
       "      <th>Wins</th>\n",
       "      <th>Y/A</th>\n",
       "      <th>Yds</th>\n",
       "    </tr>\n",
       "    <tr>\n",
       "      <th>Greater than 7 wins</th>\n",
       "      <th></th>\n",
       "      <th></th>\n",
       "      <th></th>\n",
       "      <th></th>\n",
       "      <th></th>\n",
       "      <th></th>\n",
       "      <th></th>\n",
       "      <th></th>\n",
       "      <th></th>\n",
       "      <th></th>\n",
       "      <th></th>\n",
       "      <th></th>\n",
       "    </tr>\n",
       "  </thead>\n",
       "  <tbody>\n",
       "    <tr>\n",
       "      <th rowspan=\"8\" valign=\"top\">0</th>\n",
       "      <th>count</th>\n",
       "      <td>43.000000</td>\n",
       "      <td>43.000000</td>\n",
       "      <td>43.000000</td>\n",
       "      <td>43.000000</td>\n",
       "      <td>43.000000</td>\n",
       "      <td>43.000000</td>\n",
       "      <td>43.000000</td>\n",
       "      <td>43.000000</td>\n",
       "      <td>43.000000</td>\n",
       "      <td>43.000000</td>\n",
       "      <td>43.000000</td>\n",
       "    </tr>\n",
       "    <tr>\n",
       "      <th>mean</th>\n",
       "      <td>7.895349</td>\n",
       "      <td>1031.162791</td>\n",
       "      <td>631.000000</td>\n",
       "      <td>27.604651</td>\n",
       "      <td>60.851163</td>\n",
       "      <td>5.500000</td>\n",
       "      <td>141.613953</td>\n",
       "      <td>60.186047</td>\n",
       "      <td>4.116279</td>\n",
       "      <td>7.946512</td>\n",
       "      <td>8117.860465</td>\n",
       "    </tr>\n",
       "    <tr>\n",
       "      <th>std</th>\n",
       "      <td>1.084293</td>\n",
       "      <td>333.872440</td>\n",
       "      <td>225.009100</td>\n",
       "      <td>9.549718</td>\n",
       "      <td>4.831611</td>\n",
       "      <td>2.584293</td>\n",
       "      <td>13.025992</td>\n",
       "      <td>22.830906</td>\n",
       "      <td>1.434429</td>\n",
       "      <td>0.714926</td>\n",
       "      <td>2568.446951</td>\n",
       "    </tr>\n",
       "    <tr>\n",
       "      <th>min</th>\n",
       "      <td>5.200000</td>\n",
       "      <td>292.000000</td>\n",
       "      <td>191.000000</td>\n",
       "      <td>7.000000</td>\n",
       "      <td>49.500000</td>\n",
       "      <td>0.000000</td>\n",
       "      <td>109.700000</td>\n",
       "      <td>20.000000</td>\n",
       "      <td>1.000000</td>\n",
       "      <td>6.800000</td>\n",
       "      <td>2908.000000</td>\n",
       "    </tr>\n",
       "    <tr>\n",
       "      <th>25%</th>\n",
       "      <td>7.150000</td>\n",
       "      <td>885.500000</td>\n",
       "      <td>482.500000</td>\n",
       "      <td>22.000000</td>\n",
       "      <td>56.950000</td>\n",
       "      <td>4.000000</td>\n",
       "      <td>132.900000</td>\n",
       "      <td>44.500000</td>\n",
       "      <td>3.000000</td>\n",
       "      <td>7.350000</td>\n",
       "      <td>6527.500000</td>\n",
       "    </tr>\n",
       "    <tr>\n",
       "      <th>50%</th>\n",
       "      <td>7.700000</td>\n",
       "      <td>987.000000</td>\n",
       "      <td>596.000000</td>\n",
       "      <td>27.000000</td>\n",
       "      <td>60.800000</td>\n",
       "      <td>5.000000</td>\n",
       "      <td>138.900000</td>\n",
       "      <td>59.000000</td>\n",
       "      <td>4.000000</td>\n",
       "      <td>7.900000</td>\n",
       "      <td>7731.000000</td>\n",
       "    </tr>\n",
       "    <tr>\n",
       "      <th>75%</th>\n",
       "      <td>8.600000</td>\n",
       "      <td>1247.500000</td>\n",
       "      <td>801.000000</td>\n",
       "      <td>33.500000</td>\n",
       "      <td>64.950000</td>\n",
       "      <td>7.000000</td>\n",
       "      <td>151.150000</td>\n",
       "      <td>76.000000</td>\n",
       "      <td>5.000000</td>\n",
       "      <td>8.450000</td>\n",
       "      <td>10093.500000</td>\n",
       "    </tr>\n",
       "    <tr>\n",
       "      <th>max</th>\n",
       "      <td>10.900000</td>\n",
       "      <td>1732.000000</td>\n",
       "      <td>1157.000000</td>\n",
       "      <td>52.000000</td>\n",
       "      <td>70.300000</td>\n",
       "      <td>11.000000</td>\n",
       "      <td>178.200000</td>\n",
       "      <td>113.000000</td>\n",
       "      <td>6.000000</td>\n",
       "      <td>10.000000</td>\n",
       "      <td>13253.000000</td>\n",
       "    </tr>\n",
       "    <tr>\n",
       "      <th rowspan=\"8\" valign=\"top\">1</th>\n",
       "      <th>count</th>\n",
       "      <td>23.000000</td>\n",
       "      <td>23.000000</td>\n",
       "      <td>23.000000</td>\n",
       "      <td>23.000000</td>\n",
       "      <td>23.000000</td>\n",
       "      <td>23.000000</td>\n",
       "      <td>23.000000</td>\n",
       "      <td>23.000000</td>\n",
       "      <td>23.000000</td>\n",
       "      <td>23.000000</td>\n",
       "      <td>23.000000</td>\n",
       "    </tr>\n",
       "    <tr>\n",
       "      <th>mean</th>\n",
       "      <td>7.682609</td>\n",
       "      <td>1058.130435</td>\n",
       "      <td>645.739130</td>\n",
       "      <td>28.956522</td>\n",
       "      <td>60.882609</td>\n",
       "      <td>6.195652</td>\n",
       "      <td>139.986957</td>\n",
       "      <td>61.521739</td>\n",
       "      <td>9.000000</td>\n",
       "      <td>7.778261</td>\n",
       "      <td>8117.173913</td>\n",
       "    </tr>\n",
       "    <tr>\n",
       "      <th>std</th>\n",
       "      <td>1.358693</td>\n",
       "      <td>326.783540</td>\n",
       "      <td>209.469073</td>\n",
       "      <td>10.442389</td>\n",
       "      <td>5.035389</td>\n",
       "      <td>2.766435</td>\n",
       "      <td>16.395130</td>\n",
       "      <td>22.858994</td>\n",
       "      <td>2.067058</td>\n",
       "      <td>0.926850</td>\n",
       "      <td>2435.283531</td>\n",
       "    </tr>\n",
       "    <tr>\n",
       "      <th>min</th>\n",
       "      <td>5.400000</td>\n",
       "      <td>343.000000</td>\n",
       "      <td>192.000000</td>\n",
       "      <td>11.000000</td>\n",
       "      <td>47.800000</td>\n",
       "      <td>1.000000</td>\n",
       "      <td>108.200000</td>\n",
       "      <td>21.000000</td>\n",
       "      <td>7.000000</td>\n",
       "      <td>6.100000</td>\n",
       "      <td>3299.000000</td>\n",
       "    </tr>\n",
       "    <tr>\n",
       "      <th>25%</th>\n",
       "      <td>6.600000</td>\n",
       "      <td>819.500000</td>\n",
       "      <td>485.500000</td>\n",
       "      <td>21.000000</td>\n",
       "      <td>57.800000</td>\n",
       "      <td>4.500000</td>\n",
       "      <td>127.550000</td>\n",
       "      <td>41.500000</td>\n",
       "      <td>7.000000</td>\n",
       "      <td>7.000000</td>\n",
       "      <td>5745.000000</td>\n",
       "    </tr>\n",
       "    <tr>\n",
       "      <th>50%</th>\n",
       "      <td>7.800000</td>\n",
       "      <td>1192.000000</td>\n",
       "      <td>710.000000</td>\n",
       "      <td>30.000000</td>\n",
       "      <td>60.900000</td>\n",
       "      <td>6.000000</td>\n",
       "      <td>137.300000</td>\n",
       "      <td>63.000000</td>\n",
       "      <td>9.000000</td>\n",
       "      <td>7.900000</td>\n",
       "      <td>8697.000000</td>\n",
       "    </tr>\n",
       "    <tr>\n",
       "      <th>75%</th>\n",
       "      <td>8.550000</td>\n",
       "      <td>1310.500000</td>\n",
       "      <td>799.000000</td>\n",
       "      <td>34.000000</td>\n",
       "      <td>64.900000</td>\n",
       "      <td>7.500000</td>\n",
       "      <td>152.400000</td>\n",
       "      <td>75.000000</td>\n",
       "      <td>10.500000</td>\n",
       "      <td>8.350000</td>\n",
       "      <td>9623.500000</td>\n",
       "    </tr>\n",
       "    <tr>\n",
       "      <th>max</th>\n",
       "      <td>10.600000</td>\n",
       "      <td>1489.000000</td>\n",
       "      <td>988.000000</td>\n",
       "      <td>51.000000</td>\n",
       "      <td>68.400000</td>\n",
       "      <td>13.000000</td>\n",
       "      <td>175.600000</td>\n",
       "      <td>109.000000</td>\n",
       "      <td>15.000000</td>\n",
       "      <td>9.600000</td>\n",
       "      <td>11720.000000</td>\n",
       "    </tr>\n",
       "  </tbody>\n",
       "</table>\n",
       "</div>"
      ],
      "text/plain": [
       "                                AY/A        Attps          CMP        Int  \\\n",
       "Greater than 7 wins                                                         \n",
       "0                   count  43.000000    43.000000    43.000000  43.000000   \n",
       "                    mean    7.895349  1031.162791   631.000000  27.604651   \n",
       "                    std     1.084293   333.872440   225.009100   9.549718   \n",
       "                    min     5.200000   292.000000   191.000000   7.000000   \n",
       "                    25%     7.150000   885.500000   482.500000  22.000000   \n",
       "                    50%     7.700000   987.000000   596.000000  27.000000   \n",
       "                    75%     8.600000  1247.500000   801.000000  33.500000   \n",
       "                    max    10.900000  1732.000000  1157.000000  52.000000   \n",
       "1                   count  23.000000    23.000000    23.000000  23.000000   \n",
       "                    mean    7.682609  1058.130435   645.739130  28.956522   \n",
       "                    std     1.358693   326.783540   209.469073  10.442389   \n",
       "                    min     5.400000   343.000000   192.000000  11.000000   \n",
       "                    25%     6.600000   819.500000   485.500000  21.000000   \n",
       "                    50%     7.800000  1192.000000   710.000000  30.000000   \n",
       "                    75%     8.550000  1310.500000   799.000000  34.000000   \n",
       "                    max    10.600000  1489.000000   988.000000  51.000000   \n",
       "\n",
       "                                 PCT  Previous Wins        Rate         TDs  \\\n",
       "Greater than 7 wins                                                           \n",
       "0                   count  43.000000      43.000000   43.000000   43.000000   \n",
       "                    mean   60.851163       5.500000  141.613953   60.186047   \n",
       "                    std     4.831611       2.584293   13.025992   22.830906   \n",
       "                    min    49.500000       0.000000  109.700000   20.000000   \n",
       "                    25%    56.950000       4.000000  132.900000   44.500000   \n",
       "                    50%    60.800000       5.000000  138.900000   59.000000   \n",
       "                    75%    64.950000       7.000000  151.150000   76.000000   \n",
       "                    max    70.300000      11.000000  178.200000  113.000000   \n",
       "1                   count  23.000000      23.000000   23.000000   23.000000   \n",
       "                    mean   60.882609       6.195652  139.986957   61.521739   \n",
       "                    std     5.035389       2.766435   16.395130   22.858994   \n",
       "                    min    47.800000       1.000000  108.200000   21.000000   \n",
       "                    25%    57.800000       4.500000  127.550000   41.500000   \n",
       "                    50%    60.900000       6.000000  137.300000   63.000000   \n",
       "                    75%    64.900000       7.500000  152.400000   75.000000   \n",
       "                    max    68.400000      13.000000  175.600000  109.000000   \n",
       "\n",
       "                                Wins        Y/A           Yds  \n",
       "Greater than 7 wins                                            \n",
       "0                   count  43.000000  43.000000     43.000000  \n",
       "                    mean    4.116279   7.946512   8117.860465  \n",
       "                    std     1.434429   0.714926   2568.446951  \n",
       "                    min     1.000000   6.800000   2908.000000  \n",
       "                    25%     3.000000   7.350000   6527.500000  \n",
       "                    50%     4.000000   7.900000   7731.000000  \n",
       "                    75%     5.000000   8.450000  10093.500000  \n",
       "                    max     6.000000  10.000000  13253.000000  \n",
       "1                   count  23.000000  23.000000     23.000000  \n",
       "                    mean    9.000000   7.778261   8117.173913  \n",
       "                    std     2.067058   0.926850   2435.283531  \n",
       "                    min     7.000000   6.100000   3299.000000  \n",
       "                    25%     7.000000   7.000000   5745.000000  \n",
       "                    50%     9.000000   7.900000   8697.000000  \n",
       "                    75%    10.500000   8.350000   9623.500000  \n",
       "                    max    15.000000   9.600000  11720.000000  "
      ]
     },
     "execution_count": 68,
     "metadata": {},
     "output_type": "execute_result"
    }
   ],
   "source": [
    "import numpy as np\n",
    "rookies['Previous Wins'].replace('NA', 5.5 , inplace=True)\n",
    "rookies.groupby('Greater than 7 wins').describe()"
   ]
  },
  {
   "cell_type": "markdown",
   "metadata": {},
   "source": [
    "Looking at the differences between rookie QB's that have greater than 7 wins or less than 7 wins; We see some interesting things. QBs that have <b>less than</b> 7 wins in the NFL on average have a <b>lower amount of interceptions</b> and a <b>higher<b/> College Football Passer Effeciency Rating(PER). This is very odd! We expected a QB with a higher PER in college to have greater success in the nfl, however, maybe this high performance in college puts additional pressure on these QBs to continue this trend which they can't live up to the hype in the NFL. Y/A is also higher for the <b>less than</b> 7 win Rookie QBs. We maybe starting to paint a picture of the profile of the ill performing QBs. The ill performing QBs seem to be more risk takers. They have higher Y/A meaning they have more frequent completed passess down field. Coupling that with there low interception rate gets them drafted really high. The NFL teams ignore the high risk taking because of the low interception rate but this becomes there pitfall when the Rookie cant translate past performance to the nfl. Total Yards were almost identical for both groups suggesting total passing yards have almost nothing to do with future performance. "
   ]
  },
  {
   "cell_type": "markdown",
   "metadata": {},
   "source": [
    "Lets add previous wins to our model and see if we get a better accurracy"
   ]
  },
  {
   "cell_type": "code",
   "execution_count": 69,
   "metadata": {
    "collapsed": false
   },
   "outputs": [
    {
     "name": "stdout",
     "output_type": "stream",
     "text": [
      "(49, 10)\n",
      "(17, 10)\n"
     ]
    }
   ],
   "source": [
    "rookies['Previous Wins'].replace(np.nan, 5.5 , inplace=True)\n",
    "feature_cols = ['CMP', 'Attps', 'PCT', 'Yds', 'Y/A', 'AY/A', 'TDs','Int', 'Previous Wins','Rate']\n",
    "X = rookies[feature_cols]\n",
    "y = rookies['Greater than 7 wins']\n",
    "\n",
    "from sklearn.cross_validation import train_test_split\n",
    "X_train, X_test, y_train, y_test = train_test_split(X, y, random_state=1)\n",
    "print X_train.shape\n",
    "print X_test.shape\n",
    "\n",
    "from sklearn.linear_model import LogisticRegression\n",
    "logreg = LogisticRegression(C=1e9)\n",
    "logreg.fit(X_train, y_train)\n",
    "y_pred_class = logreg.predict(X_test)\n",
    "y_pred_proba = logreg.predict_proba(X_test)"
   ]
  },
  {
   "cell_type": "code",
   "execution_count": 70,
   "metadata": {
    "collapsed": false
   },
   "outputs": [
    {
     "data": {
      "text/plain": [
       "[('CMP', 0.029826543624197267),\n",
       " ('Attps', 0.0057917954009378842),\n",
       " ('PCT', -0.37403053687651394),\n",
       " ('Yds', -0.0023752695996379796),\n",
       " ('Y/A', 0.08144177365102169),\n",
       " ('AY/A', 0.058843542611996515),\n",
       " ('TDs', -0.093539111221865451),\n",
       " ('Int', -0.017671511048457753),\n",
       " ('Previous Wins', 0.22071154650861377),\n",
       " ('Rate', 0.13821357317700131)]"
      ]
     },
     "execution_count": 70,
     "metadata": {},
     "output_type": "execute_result"
    }
   ],
   "source": [
    "zip(feature_cols, logreg.coef_[0])"
   ]
  },
  {
   "cell_type": "markdown",
   "metadata": {},
   "source": [
    "We see that Previous Wins seems to be a good indicator of nfl wins. A unit increase in Previous wins we see a .215 increase in wins for the QB's first year. "
   ]
  },
  {
   "cell_type": "code",
   "execution_count": 71,
   "metadata": {
    "collapsed": false
   },
   "outputs": [
    {
     "name": "stdout",
     "output_type": "stream",
     "text": [
      "0.352941176471\n"
     ]
    }
   ],
   "source": [
    "from sklearn import metrics\n",
    "print metrics.accuracy_score(y_test, y_pred_class)"
   ]
  },
  {
   "cell_type": "markdown",
   "metadata": {},
   "source": [
    "We see no change in our accuracy. Lets try to add two more additional features. years played at a major college and rushing stats for that QB. We will defined two functions to do this. "
   ]
  },
  {
   "cell_type": "code",
   "execution_count": 72,
   "metadata": {
    "collapsed": false
   },
   "outputs": [],
   "source": [
    "def years_played(player_list):\n",
    "    years_played_in_college = []\n",
    "    for player in player_list:\n",
    "        Rookie = player.lower().replace(\" \", \"-\")\n",
    "        url = 'http://www.sports-reference.com/cfb/players/'+Rookie+'-1.html' \n",
    "        r = requests.get(url)\n",
    "        bs = BeautifulSoup(r.text)\n",
    "\n",
    "        row = bs.find(name = 'tbody').find_all(name = 'tr')\n",
    "        years_played = len(row)\n",
    "        years_played_in_college.append(years_played)\n",
    "    return years_played_in_college\n",
    "\n",
    "    "
   ]
  },
  {
   "cell_type": "code",
   "execution_count": 73,
   "metadata": {
    "collapsed": false
   },
   "outputs": [],
   "source": [
    "years_played_in_college = years_played(rookies.Name.tolist())\n",
    "#Never added this metric to our dataframe. "
   ]
  },
  {
   "cell_type": "code",
   "execution_count": 74,
   "metadata": {
    "collapsed": false
   },
   "outputs": [],
   "source": [
    "def rush_stats(player): \n",
    "    # There are multiple alex smith's we need to enter a condition to get the right one\n",
    "    if player == 'Alex Smith':\n",
    "        player = 'alex-smith-3'\n",
    "        url = 'http://www.sports-reference.com/cfb/players/'+player+'.html'\n",
    "    else: \n",
    "        player = player.lower().replace(\" \", \"-\")\n",
    "        url = 'http://www.sports-reference.com/cfb/players/'+player+'-1.html' \n",
    "    r = requests.get(url)\n",
    "    b = BeautifulSoup(r.text)\n",
    "    #print player\n",
    "    row = b.find(name = 'table', attrs = {'id':'rushing'}).find(name = 'tfoot').find(name = 'tr')\n",
    "    cols = row.find_all(name = 'td')\n",
    "    rush_attempts = cols[6].text\n",
    "    rush_yards = cols[7].text\n",
    "    rush_yards_per_attempt = cols[8].text\n",
    "    rushing_TDs = cols[9].text\n",
    "\n",
    "    stats_row = [rush_attempts, rush_yards, rush_yards_per_attempt, rushing_TDs]\n",
    "    stats_row = [float(stat) for stat in stats_row]\n",
    "    return stats_row"
   ]
  },
  {
   "cell_type": "code",
   "execution_count": 75,
   "metadata": {
    "collapsed": false
   },
   "outputs": [],
   "source": [
    "rush_stats_list = [rush_stats(player) for player in rookies.Name.tolist()]"
   ]
  },
  {
   "cell_type": "code",
   "execution_count": 76,
   "metadata": {
    "collapsed": false
   },
   "outputs": [],
   "source": [
    "rush_attempts = [rush_attps[0] for rush_attps in rush_stats_list]\n",
    "rush_yards = [rush_attps[1] for rush_attps in rush_stats_list]\n",
    "rush_yards_per_attempt = [rush_attps[2] for rush_attps in rush_stats_list]\n",
    "rushing_TDs = [rush_attps[3] for rush_attps in rush_stats_list]"
   ]
  },
  {
   "cell_type": "code",
   "execution_count": 77,
   "metadata": {
    "collapsed": false
   },
   "outputs": [],
   "source": [
    "rookies['Rush Attps'] = rush_attempts\n",
    "rookies['Rush Yards'] = rush_yards\n",
    "rookies['Rush Y/A'] = rush_yards_per_attempt\n",
    "rookies['Rush TDs'] = rushing_TDs"
   ]
  },
  {
   "cell_type": "code",
   "execution_count": 78,
   "metadata": {
    "collapsed": false
   },
   "outputs": [
    {
     "data": {
      "text/html": [
       "<div>\n",
       "<table border=\"1\" class=\"dataframe\">\n",
       "  <thead>\n",
       "    <tr style=\"text-align: right;\">\n",
       "      <th></th>\n",
       "      <th>Name</th>\n",
       "      <th>CMP</th>\n",
       "      <th>Attps</th>\n",
       "      <th>PCT</th>\n",
       "      <th>Yds</th>\n",
       "      <th>Y/A</th>\n",
       "      <th>AY/A</th>\n",
       "      <th>TDs</th>\n",
       "      <th>Int</th>\n",
       "      <th>Rate</th>\n",
       "      <th>Rush Attps</th>\n",
       "      <th>Rush Yards</th>\n",
       "      <th>Rush Y/A</th>\n",
       "      <th>Rush TDs</th>\n",
       "      <th>Previous Wins</th>\n",
       "      <th>Wins</th>\n",
       "      <th>Greater than 7 wins</th>\n",
       "    </tr>\n",
       "  </thead>\n",
       "  <tbody>\n",
       "    <tr>\n",
       "      <th>0</th>\n",
       "      <td>Akili Smith</td>\n",
       "      <td>323</td>\n",
       "      <td>571</td>\n",
       "      <td>56.6</td>\n",
       "      <td>5148</td>\n",
       "      <td>9.0</td>\n",
       "      <td>9.4</td>\n",
       "      <td>45</td>\n",
       "      <td>15</td>\n",
       "      <td>153.1</td>\n",
       "      <td>171</td>\n",
       "      <td>367</td>\n",
       "      <td>2.1</td>\n",
       "      <td>6</td>\n",
       "      <td>3</td>\n",
       "      <td>4</td>\n",
       "      <td>0</td>\n",
       "    </tr>\n",
       "    <tr>\n",
       "      <th>1</th>\n",
       "      <td>Alex Smith</td>\n",
       "      <td>389</td>\n",
       "      <td>587</td>\n",
       "      <td>66.3</td>\n",
       "      <td>5203</td>\n",
       "      <td>8.9</td>\n",
       "      <td>9.9</td>\n",
       "      <td>47</td>\n",
       "      <td>8</td>\n",
       "      <td>164.4</td>\n",
       "      <td>286</td>\n",
       "      <td>1072</td>\n",
       "      <td>3.7</td>\n",
       "      <td>15</td>\n",
       "      <td>2</td>\n",
       "      <td>4</td>\n",
       "      <td>0</td>\n",
       "    </tr>\n",
       "    <tr>\n",
       "      <th>2</th>\n",
       "      <td>Andrew Luck</td>\n",
       "      <td>713</td>\n",
       "      <td>1064</td>\n",
       "      <td>67.0</td>\n",
       "      <td>9430</td>\n",
       "      <td>8.9</td>\n",
       "      <td>9.5</td>\n",
       "      <td>82</td>\n",
       "      <td>22</td>\n",
       "      <td>162.8</td>\n",
       "      <td>163</td>\n",
       "      <td>957</td>\n",
       "      <td>5.9</td>\n",
       "      <td>7</td>\n",
       "      <td>2</td>\n",
       "      <td>11</td>\n",
       "      <td>1</td>\n",
       "    </tr>\n",
       "    <tr>\n",
       "      <th>3</th>\n",
       "      <td>Andy Dalton</td>\n",
       "      <td>812</td>\n",
       "      <td>1317</td>\n",
       "      <td>61.7</td>\n",
       "      <td>10314</td>\n",
       "      <td>7.8</td>\n",
       "      <td>7.9</td>\n",
       "      <td>71</td>\n",
       "      <td>30</td>\n",
       "      <td>140.7</td>\n",
       "      <td>413</td>\n",
       "      <td>1611</td>\n",
       "      <td>3.9</td>\n",
       "      <td>22</td>\n",
       "      <td>4</td>\n",
       "      <td>9</td>\n",
       "      <td>1</td>\n",
       "    </tr>\n",
       "    <tr>\n",
       "      <th>4</th>\n",
       "      <td>Blaine Gabbert</td>\n",
       "      <td>568</td>\n",
       "      <td>933</td>\n",
       "      <td>60.9</td>\n",
       "      <td>6822</td>\n",
       "      <td>7.3</td>\n",
       "      <td>7.3</td>\n",
       "      <td>40</td>\n",
       "      <td>18</td>\n",
       "      <td>132.6</td>\n",
       "      <td>221</td>\n",
       "      <td>458</td>\n",
       "      <td>2.1</td>\n",
       "      <td>8</td>\n",
       "      <td>8</td>\n",
       "      <td>5</td>\n",
       "      <td>0</td>\n",
       "    </tr>\n",
       "  </tbody>\n",
       "</table>\n",
       "</div>"
      ],
      "text/plain": [
       "             Name  CMP  Attps   PCT    Yds  Y/A  AY/A  TDs  Int   Rate  \\\n",
       "0     Akili Smith  323    571  56.6   5148  9.0   9.4   45   15  153.1   \n",
       "1      Alex Smith  389    587  66.3   5203  8.9   9.9   47    8  164.4   \n",
       "2     Andrew Luck  713   1064  67.0   9430  8.9   9.5   82   22  162.8   \n",
       "3     Andy Dalton  812   1317  61.7  10314  7.8   7.9   71   30  140.7   \n",
       "4  Blaine Gabbert  568    933  60.9   6822  7.3   7.3   40   18  132.6   \n",
       "\n",
       "   Rush Attps  Rush Yards  Rush Y/A  Rush TDs  Previous Wins  Wins  \\\n",
       "0         171         367       2.1         6              3     4   \n",
       "1         286        1072       3.7        15              2     4   \n",
       "2         163         957       5.9         7              2    11   \n",
       "3         413        1611       3.9        22              4     9   \n",
       "4         221         458       2.1         8              8     5   \n",
       "\n",
       "   Greater than 7 wins  \n",
       "0                    0  \n",
       "1                    0  \n",
       "2                    1  \n",
       "3                    1  \n",
       "4                    0  "
      ]
     },
     "execution_count": 78,
     "metadata": {},
     "output_type": "execute_result"
    }
   ],
   "source": [
    "cols = ['Name','CMP','Attps','PCT','Yds','Y/A','AY/A','TDs','Int','Rate','Rush Attps','Rush Yards','Rush Y/A','Rush TDs','Previous Wins','Wins','Greater than 7 wins']\n",
    "rookies = rookies[cols]\n",
    "rookies.head()"
   ]
  },
  {
   "cell_type": "code",
   "execution_count": 127,
   "metadata": {
    "collapsed": false
   },
   "outputs": [
    {
     "name": "stdout",
     "output_type": "stream",
     "text": [
      "(49, 14)\n",
      "(17, 14)\n"
     ]
    }
   ],
   "source": [
    "feature_cols = ['CMP','Attps','PCT','Yds','Y/A','AY/A','TDs','Int','Rate','Rush Attps','Rush Yards','Rush Y/A','Rush TDs','Previous Wins']\n",
    "X = rookies[feature_cols]\n",
    "y = rookies['Greater than 7 wins']\n",
    "\n",
    "from sklearn.cross_validation import train_test_split\n",
    "X_train, X_test, y_train, y_test = train_test_split(X, y, random_state=1)\n",
    "print X_train.shape\n",
    "print X_test.shape\n",
    "\n",
    "from sklearn.linear_model import LogisticRegression\n",
    "logreg = LogisticRegression(C=1e9)\n",
    "logreg.fit(X_train, y_train)\n",
    "y_pred_class = logreg.predict(X_test)\n",
    "y_pred_proba = logreg.predict_proba(X_test)"
   ]
  },
  {
   "cell_type": "code",
   "execution_count": 128,
   "metadata": {
    "collapsed": false
   },
   "outputs": [
    {
     "data": {
      "text/plain": [
       "[('CMP', 0.025365528320685574),\n",
       " ('Attps', 0.0066864789086321253),\n",
       " ('PCT', -0.32815947009663538),\n",
       " ('Yds', -0.0022921703222955649),\n",
       " ('Y/A', 0.064612021410910464),\n",
       " ('AY/A', 0.042257293119718986),\n",
       " ('TDs', -0.082939901435759064),\n",
       " ('Int', -0.022422446852096163),\n",
       " ('Rate', 0.1147813456134715),\n",
       " ('Rush Attps', 0.0091274586311072391),\n",
       " ('Rush Yards', 0.00080396710186920128),\n",
       " ('Rush Y/A', 0.024333580230038034),\n",
       " ('Rush TDs', -0.10158003693206209),\n",
       " ('Previous Wins', 0.23491625516817027)]"
      ]
     },
     "execution_count": 128,
     "metadata": {},
     "output_type": "execute_result"
    }
   ],
   "source": [
    "zip(feature_cols, logreg.coef_[0])"
   ]
  },
  {
   "cell_type": "code",
   "execution_count": 129,
   "metadata": {
    "collapsed": false
   },
   "outputs": [
    {
     "name": "stdout",
     "output_type": "stream",
     "text": [
      "0.294117647059\n"
     ]
    }
   ],
   "source": [
    "from sklearn import metrics\n",
    "print metrics.accuracy_score(y_test, y_pred_class)"
   ]
  },
  {
   "cell_type": "markdown",
   "metadata": {},
   "source": [
    "With additional features we see a slight decrease in our model. Before we move on to decision trees lets try moving our threshold from 7 games to 6 games. "
   ]
  },
  {
   "cell_type": "code",
   "execution_count": 82,
   "metadata": {
    "collapsed": false
   },
   "outputs": [],
   "source": [
    "rookies['Greater than 6 wins'] = rookies.Wins.map(lambda x: 1 if x >= 6 else 0)"
   ]
  },
  {
   "cell_type": "code",
   "execution_count": 83,
   "metadata": {
    "collapsed": false
   },
   "outputs": [
    {
     "name": "stdout",
     "output_type": "stream",
     "text": [
      "(49, 14)\n",
      "(17, 14)\n",
      "0.235294117647\n"
     ]
    }
   ],
   "source": [
    "feature_cols = ['CMP','Attps','PCT','Yds','Y/A','AY/A','TDs','Int','Rate','Rush Attps','Rush Yards','Rush Y/A','Rush TDs','Previous Wins']\n",
    "X = rookies[feature_cols]\n",
    "y = rookies['Greater than 6 wins']\n",
    "\n",
    "from sklearn.cross_validation import train_test_split\n",
    "X_train, X_test, y_train, y_test = train_test_split(X, y, random_state=1)\n",
    "print X_train.shape\n",
    "print X_test.shape\n",
    "\n",
    "from sklearn.linear_model import LogisticRegression\n",
    "logreg = LogisticRegression(C=1e9)\n",
    "logreg.fit(X_train, y_train)\n",
    "y_pred_class = logreg.predict(X_test)\n",
    "y_pred_proba = logreg.predict_proba(X_test)\n",
    "\n",
    "zip(feature_cols, logreg.coef_[0])\n",
    "\n",
    "from sklearn import metrics\n",
    "print metrics.accuracy_score(y_test, y_pred_class)"
   ]
  },
  {
   "cell_type": "markdown",
   "metadata": {},
   "source": [
    "Our model did worse"
   ]
  },
  {
   "cell_type": "code",
   "execution_count": 84,
   "metadata": {
    "collapsed": true
   },
   "outputs": [],
   "source": [
    "def Predicting_Wins(amount_of_wins): \n",
    "    feature_cols = ['CMP','Attps','PCT','Yds','Y/A','AY/A','TDs','Int','Rate','Rush Attps','Rush Yards','Rush Y/A','Rush TDs','Previous Wins']\n",
    "    X = rookies[feature_cols]\n",
    "    rookies['Greater than '+str(amount_of_wins) +' wins'] = rookies.Wins.map(lambda x: 1 if x >= amount_of_wins else 0)\n",
    "    y = rookies['Greater than '+ str(amount_of_wins) +' wins']\n",
    "    \n",
    "    X_train, X_test, y_train, y_test = train_test_split(X, y, random_state=1)\n",
    "    X_train.shape\n",
    "    X_test.shape\n",
    "\n",
    "    logreg = LogisticRegression(C=1e9)\n",
    "    logreg.fit(X_train, y_train)\n",
    "    y_pred_class = logreg.predict(X_test)\n",
    "    y_pred_proba = logreg.predict_proba(X_test)\n",
    "    \n",
    "    null_accurracy = sum(y_test)/float(len(y_test))\n",
    "    print null_accurracy\n",
    "    \n",
    "    return metrics.accuracy_score(y_test, y_pred_class)\n"
   ]
  },
  {
   "cell_type": "code",
   "execution_count": 90,
   "metadata": {
    "collapsed": false
   },
   "outputs": [
    {
     "name": "stdout",
     "output_type": "stream",
     "text": [
      "0.411764705882\n"
     ]
    },
    {
     "data": {
      "text/plain": [
       "0.70588235294117652"
      ]
     },
     "execution_count": 90,
     "metadata": {},
     "output_type": "execute_result"
    }
   ],
   "source": [
    "Predicting_Wins(8)"
   ]
  },
  {
   "cell_type": "markdown",
   "metadata": {},
   "source": [
    "Our accuracy went way up and performs better than the null accuracy ( first number is the null accuracy)! Lets Try 9 wins. Maybe this increase in performance will continue as we increase the number of wins for the response value.  "
   ]
  },
  {
   "cell_type": "code",
   "execution_count": 87,
   "metadata": {
    "collapsed": false
   },
   "outputs": [],
   "source": [
    "#rookies.drop('Greater than 8 wins', axis=1, inplace=True)"
   ]
  },
  {
   "cell_type": "code",
   "execution_count": 88,
   "metadata": {
    "collapsed": false
   },
   "outputs": [
    {
     "name": "stdout",
     "output_type": "stream",
     "text": [
      "0.294117647059\n"
     ]
    },
    {
     "data": {
      "text/plain": [
       "0.70588235294117652"
      ]
     },
     "execution_count": 88,
     "metadata": {},
     "output_type": "execute_result"
    }
   ],
   "source": [
    "Predicting_Wins(9)"
   ]
  },
  {
   "cell_type": "raw",
   "metadata": {},
   "source": [
    "performs the same while null accuracy decreases significantly. We will use 8 wins as a cut off point. "
   ]
  },
  {
   "cell_type": "code",
   "execution_count": 91,
   "metadata": {
    "collapsed": false
   },
   "outputs": [],
   "source": [
    "feature_cols = ['CMP','Attps','PCT','Yds','Y/A','AY/A','TDs','Int','Rate','Rush Attps','Rush Yards','Rush Y/A','Rush TDs','Previous Wins']\n",
    "X = rookies[feature_cols]\n",
    "y = rookies['Greater than 8 wins']"
   ]
  },
  {
   "cell_type": "code",
   "execution_count": 92,
   "metadata": {
    "collapsed": false
   },
   "outputs": [],
   "source": [
    "from sklearn.tree import DecisionTreeClassifier\n",
    "treeclf = DecisionTreeClassifier(random_state=1)\n",
    "treeclf.fit(X, y)\n",
    "\n",
    "y_pred = treeclf.predict(X_test)"
   ]
  },
  {
   "cell_type": "code",
   "execution_count": 93,
   "metadata": {
    "collapsed": false
   },
   "outputs": [],
   "source": [
    "from sklearn.cross_validation import cross_val_score\n",
    "scores = cross_val_score(treeclf, X, y, cv=10, scoring='accuracy')"
   ]
  },
  {
   "cell_type": "code",
   "execution_count": 94,
   "metadata": {
    "collapsed": false
   },
   "outputs": [
    {
     "data": {
      "text/plain": [
       "array([ 0.625     ,  0.57142857,  0.57142857,  0.42857143,  0.57142857,\n",
       "        0.83333333,  0.83333333,  0.83333333,  0.83333333,  0.66666667])"
      ]
     },
     "execution_count": 94,
     "metadata": {},
     "output_type": "execute_result"
    }
   ],
   "source": [
    "scores"
   ]
  },
  {
   "cell_type": "code",
   "execution_count": 95,
   "metadata": {
    "collapsed": false
   },
   "outputs": [
    {
     "data": {
      "text/plain": [
       "0.67678571428571421"
      ]
     },
     "execution_count": 95,
     "metadata": {},
     "output_type": "execute_result"
    }
   ],
   "source": [
    "scores.mean()"
   ]
  },
  {
   "cell_type": "markdown",
   "metadata": {},
   "source": [
    "Applying naive bayes to our problem."
   ]
  },
  {
   "cell_type": "code",
   "execution_count": null,
   "metadata": {
    "collapsed": false
   },
   "outputs": [],
   "source": [
    "# create a GraphViz file\n",
    "from sklearn.tree import export_graphviz\n",
    "export_graphviz(treeclf, out_file='Project_Rookie_QB.dot', feature_names=feature_cols)\n",
    "\n",
    "# At the command line, run this to convert to PNG:\n",
    "# dot -Tpng Project_Rookie_QB.dot -o Project_Rookie_QB.png"
   ]
  },
  {
   "cell_type": "code",
   "execution_count": 96,
   "metadata": {
    "collapsed": false
   },
   "outputs": [],
   "source": [
    "feature_cols = ['CMP','Attps','PCT','Yds','Y/A','AY/A','TDs','Int','Rate','Rush Attps','Rush TDs','Previous Wins']\n",
    "X = rookies[feature_cols]\n",
    "y = rookies['Greater than 8 wins']\n",
    "\n",
    "X_train, X_test, y_train, y_test = train_test_split(X, y, random_state=1)\n",
    "from sklearn.naive_bayes import MultinomialNB\n",
    "nb = MultinomialNB()\n",
    "nb.fit(X_train, y_train)\n",
    "\n",
    "y_pred_class = nb.predict(X_test)"
   ]
  },
  {
   "cell_type": "code",
   "execution_count": 97,
   "metadata": {
    "collapsed": false
   },
   "outputs": [
    {
     "name": "stdout",
     "output_type": "stream",
     "text": [
      "0.588235294118\n",
      "[[7 3]\n",
      " [4 3]]\n"
     ]
    }
   ],
   "source": [
    "from sklearn import metrics\n",
    "print metrics.accuracy_score(y_test, y_pred_class)\n",
    "print metrics.confusion_matrix(y_test, y_pred_class)"
   ]
  },
  {
   "cell_type": "markdown",
   "metadata": {},
   "source": [
    "The naive bayes model had an accurracy  of 58% better than our intial attempts but underperforms the decision tree and logistic regression model. "
   ]
  },
  {
   "cell_type": "code",
   "execution_count": 98,
   "metadata": {
    "collapsed": false
   },
   "outputs": [],
   "source": [
    "rookies['College Years Played'] = years_played_in_college"
   ]
  },
  {
   "cell_type": "code",
   "execution_count": 105,
   "metadata": {
    "collapsed": false,
    "scrolled": false
   },
   "outputs": [
    {
     "name": "stderr",
     "output_type": "stream",
     "text": [
      "/Users/akilthomas/anaconda/lib/python2.7/site-packages/IPython/kernel/__main__.py:1: SettingWithCopyWarning: \n",
      "A value is trying to be set on a copy of a slice from a DataFrame\n",
      "\n",
      "See the the caveats in the documentation: http://pandas.pydata.org/pandas-docs/stable/indexing.html#indexing-view-versus-copy\n",
      "  if __name__ == '__main__':\n"
     ]
    },
    {
     "data": {
      "text/html": [
       "<div>\n",
       "<table border=\"1\" class=\"dataframe\">\n",
       "  <thead>\n",
       "    <tr style=\"text-align: right;\">\n",
       "      <th></th>\n",
       "      <th>Name</th>\n",
       "      <th>CMP</th>\n",
       "      <th>Attps</th>\n",
       "      <th>PCT</th>\n",
       "      <th>Yds</th>\n",
       "      <th>Y/A</th>\n",
       "      <th>AY/A</th>\n",
       "      <th>TDs</th>\n",
       "      <th>Int</th>\n",
       "      <th>Rate</th>\n",
       "      <th>...</th>\n",
       "      <th>Rush Yards</th>\n",
       "      <th>Rush Y/A</th>\n",
       "      <th>Rush TDs</th>\n",
       "      <th>Previous Wins</th>\n",
       "      <th>Wins</th>\n",
       "      <th>Greater than 7 wins</th>\n",
       "      <th>Greater than 6 wins</th>\n",
       "      <th>Greater than 9 wins</th>\n",
       "      <th>Greater than 8 wins</th>\n",
       "      <th>College Years Played</th>\n",
       "    </tr>\n",
       "  </thead>\n",
       "  <tbody>\n",
       "    <tr>\n",
       "      <th>0</th>\n",
       "      <td>Akili Smith</td>\n",
       "      <td>323</td>\n",
       "      <td>571</td>\n",
       "      <td>56.6</td>\n",
       "      <td>5148</td>\n",
       "      <td>9.0</td>\n",
       "      <td>9.4</td>\n",
       "      <td>45</td>\n",
       "      <td>15</td>\n",
       "      <td>153.1</td>\n",
       "      <td>...</td>\n",
       "      <td>367</td>\n",
       "      <td>2.1</td>\n",
       "      <td>6</td>\n",
       "      <td>3</td>\n",
       "      <td>4</td>\n",
       "      <td>0</td>\n",
       "      <td>0</td>\n",
       "      <td>0</td>\n",
       "      <td>0</td>\n",
       "      <td>2</td>\n",
       "    </tr>\n",
       "    <tr>\n",
       "      <th>1</th>\n",
       "      <td>Alex Smith</td>\n",
       "      <td>389</td>\n",
       "      <td>587</td>\n",
       "      <td>66.3</td>\n",
       "      <td>5203</td>\n",
       "      <td>8.9</td>\n",
       "      <td>9.9</td>\n",
       "      <td>47</td>\n",
       "      <td>8</td>\n",
       "      <td>164.4</td>\n",
       "      <td>...</td>\n",
       "      <td>1072</td>\n",
       "      <td>3.7</td>\n",
       "      <td>15</td>\n",
       "      <td>2</td>\n",
       "      <td>4</td>\n",
       "      <td>0</td>\n",
       "      <td>0</td>\n",
       "      <td>0</td>\n",
       "      <td>0</td>\n",
       "      <td>4</td>\n",
       "    </tr>\n",
       "    <tr>\n",
       "      <th>2</th>\n",
       "      <td>Andrew Luck</td>\n",
       "      <td>713</td>\n",
       "      <td>1064</td>\n",
       "      <td>67.0</td>\n",
       "      <td>9430</td>\n",
       "      <td>8.9</td>\n",
       "      <td>9.5</td>\n",
       "      <td>82</td>\n",
       "      <td>22</td>\n",
       "      <td>162.8</td>\n",
       "      <td>...</td>\n",
       "      <td>957</td>\n",
       "      <td>5.9</td>\n",
       "      <td>7</td>\n",
       "      <td>2</td>\n",
       "      <td>11</td>\n",
       "      <td>1</td>\n",
       "      <td>1</td>\n",
       "      <td>1</td>\n",
       "      <td>1</td>\n",
       "      <td>3</td>\n",
       "    </tr>\n",
       "    <tr>\n",
       "      <th>3</th>\n",
       "      <td>Andy Dalton</td>\n",
       "      <td>812</td>\n",
       "      <td>1317</td>\n",
       "      <td>61.7</td>\n",
       "      <td>10314</td>\n",
       "      <td>7.8</td>\n",
       "      <td>7.9</td>\n",
       "      <td>71</td>\n",
       "      <td>30</td>\n",
       "      <td>140.7</td>\n",
       "      <td>...</td>\n",
       "      <td>1611</td>\n",
       "      <td>3.9</td>\n",
       "      <td>22</td>\n",
       "      <td>4</td>\n",
       "      <td>9</td>\n",
       "      <td>1</td>\n",
       "      <td>1</td>\n",
       "      <td>1</td>\n",
       "      <td>1</td>\n",
       "      <td>4</td>\n",
       "    </tr>\n",
       "    <tr>\n",
       "      <th>4</th>\n",
       "      <td>Blaine Gabbert</td>\n",
       "      <td>568</td>\n",
       "      <td>933</td>\n",
       "      <td>60.9</td>\n",
       "      <td>6822</td>\n",
       "      <td>7.3</td>\n",
       "      <td>7.3</td>\n",
       "      <td>40</td>\n",
       "      <td>18</td>\n",
       "      <td>132.6</td>\n",
       "      <td>...</td>\n",
       "      <td>458</td>\n",
       "      <td>2.1</td>\n",
       "      <td>8</td>\n",
       "      <td>8</td>\n",
       "      <td>5</td>\n",
       "      <td>0</td>\n",
       "      <td>0</td>\n",
       "      <td>0</td>\n",
       "      <td>0</td>\n",
       "      <td>3</td>\n",
       "    </tr>\n",
       "  </tbody>\n",
       "</table>\n",
       "<p>5 rows × 21 columns</p>\n",
       "</div>"
      ],
      "text/plain": [
       "             Name  CMP  Attps   PCT    Yds  Y/A  AY/A  TDs  Int   Rate  \\\n",
       "0     Akili Smith  323    571  56.6   5148  9.0   9.4   45   15  153.1   \n",
       "1      Alex Smith  389    587  66.3   5203  8.9   9.9   47    8  164.4   \n",
       "2     Andrew Luck  713   1064  67.0   9430  8.9   9.5   82   22  162.8   \n",
       "3     Andy Dalton  812   1317  61.7  10314  7.8   7.9   71   30  140.7   \n",
       "4  Blaine Gabbert  568    933  60.9   6822  7.3   7.3   40   18  132.6   \n",
       "\n",
       "           ...           Rush Yards  Rush Y/A  Rush TDs  Previous Wins  Wins  \\\n",
       "0          ...                  367       2.1         6              3     4   \n",
       "1          ...                 1072       3.7        15              2     4   \n",
       "2          ...                  957       5.9         7              2    11   \n",
       "3          ...                 1611       3.9        22              4     9   \n",
       "4          ...                  458       2.1         8              8     5   \n",
       "\n",
       "   Greater than 7 wins  Greater than 6 wins  Greater than 9 wins  \\\n",
       "0                    0                    0                    0   \n",
       "1                    0                    0                    0   \n",
       "2                    1                    1                    1   \n",
       "3                    1                    1                    1   \n",
       "4                    0                    0                    0   \n",
       "\n",
       "   Greater than 8 wins  College Years Played  \n",
       "0                    0                     2  \n",
       "1                    0                     4  \n",
       "2                    1                     3  \n",
       "3                    1                     4  \n",
       "4                    0                     3  \n",
       "\n",
       "[5 rows x 21 columns]"
      ]
     },
     "execution_count": 105,
     "metadata": {},
     "output_type": "execute_result"
    }
   ],
   "source": [
    "rookies['College Years Played'][1] = 4 \n",
    "rookies.head()"
   ]
  },
  {
   "cell_type": "code",
   "execution_count": 107,
   "metadata": {
    "collapsed": false
   },
   "outputs": [
    {
     "name": "stdout",
     "output_type": "stream",
     "text": [
      "0.411764705882\n",
      "0.705882352941\n"
     ]
    }
   ],
   "source": [
    "feature_cols = ['CMP','Attps','PCT','Yds','Y/A','AY/A','TDs','Int','Rate','Rush Attps','Rush Yards','Rush Y/A','Rush TDs','Previous Wins','College Years Played']\n",
    "X = rookies[feature_cols]\n",
    "y = rookies['Greater than 8 wins']\n",
    "\n",
    "X_train, X_test, y_train, y_test = train_test_split(X, y, random_state=1)\n",
    "X_train.shape\n",
    "X_test.shape\n",
    "\n",
    "logreg = LogisticRegression(C=1e9)\n",
    "logreg.fit(X_train, y_train)\n",
    "y_pred_class = logreg.predict(X_test)\n",
    "y_pred_proba = logreg.predict_proba(X_test)\n",
    "\n",
    "max_y = max(y_test)\n",
    "min_y = min(y_test)\n",
    "\n",
    "count = 0\n",
    "for pred in y_test:\n",
    "    if pred == max_y:\n",
    "        count+=1\n",
    "\n",
    "\n",
    "null_accurracy = count/float(len(y_test))\n",
    "print null_accurracy\n",
    "\n",
    "print metrics.accuracy_score(y_test, y_pred_class)\n",
    "\n"
   ]
  },
  {
   "cell_type": "code",
   "execution_count": 111,
   "metadata": {
    "collapsed": false
   },
   "outputs": [
    {
     "name": "stdout",
     "output_type": "stream",
     "text": [
      "[0]\n",
      "[0]\n"
     ]
    }
   ],
   "source": [
    "jameis_winston = logreg.predict([562,851,66.0,7964,9.4,9.4,65,28,163.3,145,284,2.0,7,2,2])\n",
    "print jameis_winston\n",
    "marcus_mariota = logreg.predict([779,1167,66.8,10796,9.3,10.5,105,14,171.8,337,2237,6.6,29,2,3])\n",
    "print marcus_mariota"
   ]
  },
  {
   "cell_type": "markdown",
   "metadata": {},
   "source": [
    "Inputing the corresponding statistics for jameis winston and marcus mariota, the model predicts that neither marcus nor jameis will have  8 or greater seasons. "
   ]
  },
  {
   "cell_type": "code",
   "execution_count": 115,
   "metadata": {
    "collapsed": false
   },
   "outputs": [
    {
     "name": "stdout",
     "output_type": "stream",
     "text": [
      "[0 1 0 1 0 1 0 0 0 0 1 0 1 1 0 0 1]\n",
      "[0 0 0 0 0 0 0 0 0 0 1 0 1 0 0 0 0]\n",
      "[[  9.74424088e-01   2.55759117e-02]\n",
      " [  9.76548999e-01   2.34510007e-02]\n",
      " [  9.99302736e-01   6.97263998e-04]\n",
      " [  9.99430288e-01   5.69711976e-04]\n",
      " [  5.48324757e-01   4.51675243e-01]\n",
      " [  8.84392880e-01   1.15607120e-01]\n",
      " [  9.77370668e-01   2.26293319e-02]\n",
      " [  8.34857293e-01   1.65142707e-01]\n",
      " [  9.94200314e-01   5.79968576e-03]\n",
      " [  9.91077341e-01   8.92265926e-03]\n",
      " [  2.88045415e-01   7.11954585e-01]\n",
      " [  9.49601646e-01   5.03983536e-02]\n",
      " [  2.02215473e-01   7.97784527e-01]\n",
      " [  9.02076455e-01   9.79235453e-02]\n",
      " [  9.89004817e-01   1.09951826e-02]\n",
      " [  9.03353580e-01   9.66464197e-02]\n",
      " [  9.68271738e-01   3.17282621e-02]]\n"
     ]
    }
   ],
   "source": [
    "print y_test\n",
    "print y_pred_class\n",
    "print y_pred_proba"
   ]
  },
  {
   "cell_type": "code",
   "execution_count": 117,
   "metadata": {
    "collapsed": false
   },
   "outputs": [
    {
     "name": "stdout",
     "output_type": "stream",
     "text": [
      "0.411764705882\n",
      "0.823529411765\n"
     ]
    }
   ],
   "source": [
    "#Here's a thought. Our sample size is small. Our sample size could have a unporpotionate number of 0 or 1 classifiers.\n",
    "#Lets try to train the model on the entire sample size. \n",
    "\n",
    "feature_cols = ['CMP','Attps','PCT','Yds','Y/A','AY/A','TDs','Int','Rate','Rush Attps','Rush Yards','Rush Y/A','Rush TDs','Previous Wins','College Years Played']\n",
    "X = rookies[feature_cols]\n",
    "y = rookies['Greater than 8 wins']\n",
    "\n",
    "X_train, X_test, y_train, y_test = train_test_split(X, y, random_state=1)\n",
    "#X_train.shape\n",
    "#X_test.shape\n",
    "\n",
    "logreg2 = LogisticRegression(C=1e9)\n",
    "logreg2.fit(X, y)\n",
    "y_pred_class = logreg2.predict(X_test)\n",
    "y_pred_proba = logreg2.predict_proba(X_test)\n",
    "\n",
    "count = 0\n",
    "for pred in y_test:\n",
    "    if pred == max_y:\n",
    "        count+=1\n",
    "\n",
    "\n",
    "null_accurracy = count/float(len(y_test))\n",
    "print null_accurracy\n",
    "\n",
    "print metrics.accuracy_score(y_test, y_pred_class)\n"
   ]
  },
  {
   "cell_type": "markdown",
   "metadata": {},
   "source": [
    "Awesome! But does this mean our model performs worst with out of sample data? Maybe so. "
   ]
  },
  {
   "cell_type": "code",
   "execution_count": 119,
   "metadata": {
    "collapsed": false
   },
   "outputs": [
    {
     "name": "stdout",
     "output_type": "stream",
     "text": [
      "[[10  0]\n",
      " [ 3  4]]\n",
      "[0 1 0 1 0 1 0 0 0 0 1 0 1 1 0 0 1]\n",
      "[0 0 0 1 0 1 0 0 0 0 1 0 1 0 0 0 0]\n",
      "[[ 0.87072934  0.12927066]\n",
      " [ 0.55591033  0.44408967]\n",
      " [ 0.98137403  0.01862597]\n",
      " [ 0.46533301  0.53466699]\n",
      " [ 0.9704114   0.0295886 ]\n",
      " [ 0.21065138  0.78934862]\n",
      " [ 0.94421859  0.05578141]\n",
      " [ 0.54244902  0.45755098]\n",
      " [ 0.92978477  0.07021523]\n",
      " [ 0.99327064  0.00672936]\n",
      " [ 0.22105039  0.77894961]\n",
      " [ 0.66493526  0.33506474]\n",
      " [ 0.11249554  0.88750446]\n",
      " [ 0.87969907  0.12030093]\n",
      " [ 0.99591836  0.00408164]\n",
      " [ 0.9587092   0.0412908 ]\n",
      " [ 0.57153591  0.42846409]]\n"
     ]
    }
   ],
   "source": [
    "print metrics.confusion_matrix(y_test, y_pred_class)\n",
    "print y_test\n",
    "print y_pred_class\n",
    "print y_pred_proba"
   ]
  },
  {
   "cell_type": "markdown",
   "metadata": {},
   "source": [
    "The confusion maxtric has 0 False Positive meaning that our model never/rarely predicts a QB that has <b>less<b> than 8 wins as having<b>more</b> than 8 wins. "
   ]
  },
  {
   "cell_type": "code",
   "execution_count": 124,
   "metadata": {
    "collapsed": false
   },
   "outputs": [
    {
     "data": {
      "text/plain": [
       "0.9285714285714286"
      ]
     },
     "execution_count": 124,
     "metadata": {},
     "output_type": "execute_result"
    }
   ],
   "source": [
    "metrics.roc_auc_score(y_test, y_pred_proba[:,1])"
   ]
  },
  {
   "cell_type": "markdown",
   "metadata": {},
   "source": [
    "Our model performs well as the ROC curve is 93%"
   ]
  },
  {
   "cell_type": "code",
   "execution_count": 126,
   "metadata": {
    "collapsed": false
   },
   "outputs": [
    {
     "data": {
      "text/plain": [
       "<matplotlib.text.Text at 0x1096ba7d0>"
      ]
     },
     "execution_count": 126,
     "metadata": {},
     "output_type": "execute_result"
    },
    {
     "data": {
      "image/png": "[encoded data removed]",
      "text/plain": [
       "<matplotlib.figure.Figure at 0x10abe2b90>"
      ]
     },
     "metadata": {},
     "output_type": "display_data"
    }
   ],
   "source": [
    "import matplotlib.pyplot as plt\n",
    "fpr, tpr, thresholds = metrics.roc_curve(y_test, y_pred_proba[:,1])\n",
    "plt.plot(fpr, tpr)\n",
    "plt.xlim([0.0, 1.0])\n",
    "plt.ylim([0.0, 1.0])\n",
    "plt.xlabel('False Positive Rate (1 - Specificity)')\n",
    "plt.ylabel('True Positive Rate (Sensitivity)')"
   ]
  },
  {
   "cell_type": "code",
   "execution_count": 120,
   "metadata": {
    "collapsed": false
   },
   "outputs": [
    {
     "name": "stdout",
     "output_type": "stream",
     "text": [
      "[0]\n",
      "[0]\n"
     ]
    }
   ],
   "source": [
    "jameis_winston = logreg.predict([562,851,66.0,7964,9.4,9.4,65,28,163.3,145,284,2.0,7,2,2])\n",
    "print jameis_winston\n",
    "marcus_mariota = logreg.predict([779,1167,66.8,10796,9.3,10.5,105,14,171.8,337,2237,6.6,29,2,3])\n",
    "print marcus_mariota"
   ]
  },
  {
   "cell_type": "markdown",
   "metadata": {},
   "source": [
    "We conclude with 82% accurracy(mind you my model predicts well for QBs who win 8 or more games) that neither Marcus Mariota nor Jameis Winston will have 8 or more win game their rookie season. "
   ]
  }
 ],
 "metadata": {
  "kernelspec": {
   "display_name": "Python 2",
   "language": "python",
   "name": "python2"
  },
  "language_info": {
   "codemirror_mode": {
    "name": "ipython",
    "version": 2
   },
   "file_extension": ".py",
   "mimetype": "text/x-python",
   "name": "python",
   "nbconvert_exporter": "python",
   "pygments_lexer": "ipython2",
   "version": "2.7.10"
  }
 },
 "nbformat": 4,
 "nbformat_minor": 0
}
